{
  "cells": [
    {
      "cell_type": "markdown",
      "metadata": {
        "id": "kfqRrwup0WJ7"
      },
      "source": [
        "#Installing Libraries (if installed before just need to import it)"
      ]
    },
    {
      "cell_type": "code",
      "execution_count": 191,
      "metadata": {
        "id": "A5U5386JuJYd"
      },
      "outputs": [],
      "source": [
        "#!pip install numpy\n",
        "#!pip install panda\n",
        "#!pip install matplotlib\n",
        "#!pip install seaborn"
      ]
    },
    {
      "cell_type": "markdown",
      "metadata": {
        "id": "i8luAX6R0ezr"
      },
      "source": [
        "#Importing Libraries needed for regression"
      ]
    },
    {
      "cell_type": "code",
      "execution_count": 192,
      "metadata": {
        "id": "yioDQ9suuhm0"
      },
      "outputs": [],
      "source": [
        "import pandas as pd \n",
        "import numpy as np\n",
        "import matplotlib.pyplot as plt\n",
        "import seaborn as sns\n",
        "from sklearn.preprocessing import LabelEncoder\n",
        "from sklearn.model_selection import train_test_split\n",
        "from sklearn.tree import DecisionTreeRegressor\n",
        "from sklearn.ensemble import RandomForestRegressor\n",
        "from sklearn.linear_model import LinearRegression\n",
        "from sklearn.neighbors import KNeighborsRegressor\n",
        "from sklearn.metrics import r2_score"
      ]
    },
    {
      "cell_type": "markdown",
      "metadata": {
        "id": "_-2ltxJi0lS1"
      },
      "source": [
        "#Importing dataset "
      ]
    },
    {
      "cell_type": "code",
      "execution_count": 193,
      "metadata": {
        "id": "FIYIhXwxvHmp",
        "colab": {
          "base_uri": "https://localhost:8080/",
          "height": 206
        },
        "outputId": "aeb17cda-b3c1-438a-bcfb-a1f3906ce1ef"
      },
      "outputs": [
        {
          "output_type": "execute_result",
          "data": {
            "text/plain": [
              "   age     sex     bmi  children smoker     region      charges\n",
              "0   19  female  27.900         0    yes  southwest  16884.92400\n",
              "1   18    male  33.770         1     no  southeast   1725.55230\n",
              "2   28    male  33.000         3     no  southeast   4449.46200\n",
              "3   33    male  22.705         0     no  northwest  21984.47061\n",
              "4   32    male  28.880         0     no  northwest   3866.85520"
            ],
            "text/html": [
              "\n",
              "  <div id=\"df-08610b98-c256-4672-bd25-b654317f49b6\">\n",
              "    <div class=\"colab-df-container\">\n",
              "      <div>\n",
              "<style scoped>\n",
              "    .dataframe tbody tr th:only-of-type {\n",
              "        vertical-align: middle;\n",
              "    }\n",
              "\n",
              "    .dataframe tbody tr th {\n",
              "        vertical-align: top;\n",
              "    }\n",
              "\n",
              "    .dataframe thead th {\n",
              "        text-align: right;\n",
              "    }\n",
              "</style>\n",
              "<table border=\"1\" class=\"dataframe\">\n",
              "  <thead>\n",
              "    <tr style=\"text-align: right;\">\n",
              "      <th></th>\n",
              "      <th>age</th>\n",
              "      <th>sex</th>\n",
              "      <th>bmi</th>\n",
              "      <th>children</th>\n",
              "      <th>smoker</th>\n",
              "      <th>region</th>\n",
              "      <th>charges</th>\n",
              "    </tr>\n",
              "  </thead>\n",
              "  <tbody>\n",
              "    <tr>\n",
              "      <th>0</th>\n",
              "      <td>19</td>\n",
              "      <td>female</td>\n",
              "      <td>27.900</td>\n",
              "      <td>0</td>\n",
              "      <td>yes</td>\n",
              "      <td>southwest</td>\n",
              "      <td>16884.92400</td>\n",
              "    </tr>\n",
              "    <tr>\n",
              "      <th>1</th>\n",
              "      <td>18</td>\n",
              "      <td>male</td>\n",
              "      <td>33.770</td>\n",
              "      <td>1</td>\n",
              "      <td>no</td>\n",
              "      <td>southeast</td>\n",
              "      <td>1725.55230</td>\n",
              "    </tr>\n",
              "    <tr>\n",
              "      <th>2</th>\n",
              "      <td>28</td>\n",
              "      <td>male</td>\n",
              "      <td>33.000</td>\n",
              "      <td>3</td>\n",
              "      <td>no</td>\n",
              "      <td>southeast</td>\n",
              "      <td>4449.46200</td>\n",
              "    </tr>\n",
              "    <tr>\n",
              "      <th>3</th>\n",
              "      <td>33</td>\n",
              "      <td>male</td>\n",
              "      <td>22.705</td>\n",
              "      <td>0</td>\n",
              "      <td>no</td>\n",
              "      <td>northwest</td>\n",
              "      <td>21984.47061</td>\n",
              "    </tr>\n",
              "    <tr>\n",
              "      <th>4</th>\n",
              "      <td>32</td>\n",
              "      <td>male</td>\n",
              "      <td>28.880</td>\n",
              "      <td>0</td>\n",
              "      <td>no</td>\n",
              "      <td>northwest</td>\n",
              "      <td>3866.85520</td>\n",
              "    </tr>\n",
              "  </tbody>\n",
              "</table>\n",
              "</div>\n",
              "      <button class=\"colab-df-convert\" onclick=\"convertToInteractive('df-08610b98-c256-4672-bd25-b654317f49b6')\"\n",
              "              title=\"Convert this dataframe to an interactive table.\"\n",
              "              style=\"display:none;\">\n",
              "        \n",
              "  <svg xmlns=\"http://www.w3.org/2000/svg\" height=\"24px\"viewBox=\"0 0 24 24\"\n",
              "       width=\"24px\">\n",
              "    <path d=\"M0 0h24v24H0V0z\" fill=\"none\"/>\n",
              "    <path d=\"M18.56 5.44l.94 2.06.94-2.06 2.06-.94-2.06-.94-.94-2.06-.94 2.06-2.06.94zm-11 1L8.5 8.5l.94-2.06 2.06-.94-2.06-.94L8.5 2.5l-.94 2.06-2.06.94zm10 10l.94 2.06.94-2.06 2.06-.94-2.06-.94-.94-2.06-.94 2.06-2.06.94z\"/><path d=\"M17.41 7.96l-1.37-1.37c-.4-.4-.92-.59-1.43-.59-.52 0-1.04.2-1.43.59L10.3 9.45l-7.72 7.72c-.78.78-.78 2.05 0 2.83L4 21.41c.39.39.9.59 1.41.59.51 0 1.02-.2 1.41-.59l7.78-7.78 2.81-2.81c.8-.78.8-2.07 0-2.86zM5.41 20L4 18.59l7.72-7.72 1.47 1.35L5.41 20z\"/>\n",
              "  </svg>\n",
              "      </button>\n",
              "      \n",
              "  <style>\n",
              "    .colab-df-container {\n",
              "      display:flex;\n",
              "      flex-wrap:wrap;\n",
              "      gap: 12px;\n",
              "    }\n",
              "\n",
              "    .colab-df-convert {\n",
              "      background-color: #E8F0FE;\n",
              "      border: none;\n",
              "      border-radius: 50%;\n",
              "      cursor: pointer;\n",
              "      display: none;\n",
              "      fill: #1967D2;\n",
              "      height: 32px;\n",
              "      padding: 0 0 0 0;\n",
              "      width: 32px;\n",
              "    }\n",
              "\n",
              "    .colab-df-convert:hover {\n",
              "      background-color: #E2EBFA;\n",
              "      box-shadow: 0px 1px 2px rgba(60, 64, 67, 0.3), 0px 1px 3px 1px rgba(60, 64, 67, 0.15);\n",
              "      fill: #174EA6;\n",
              "    }\n",
              "\n",
              "    [theme=dark] .colab-df-convert {\n",
              "      background-color: #3B4455;\n",
              "      fill: #D2E3FC;\n",
              "    }\n",
              "\n",
              "    [theme=dark] .colab-df-convert:hover {\n",
              "      background-color: #434B5C;\n",
              "      box-shadow: 0px 1px 3px 1px rgba(0, 0, 0, 0.15);\n",
              "      filter: drop-shadow(0px 1px 2px rgba(0, 0, 0, 0.3));\n",
              "      fill: #FFFFFF;\n",
              "    }\n",
              "  </style>\n",
              "\n",
              "      <script>\n",
              "        const buttonEl =\n",
              "          document.querySelector('#df-08610b98-c256-4672-bd25-b654317f49b6 button.colab-df-convert');\n",
              "        buttonEl.style.display =\n",
              "          google.colab.kernel.accessAllowed ? 'block' : 'none';\n",
              "\n",
              "        async function convertToInteractive(key) {\n",
              "          const element = document.querySelector('#df-08610b98-c256-4672-bd25-b654317f49b6');\n",
              "          const dataTable =\n",
              "            await google.colab.kernel.invokeFunction('convertToInteractive',\n",
              "                                                     [key], {});\n",
              "          if (!dataTable) return;\n",
              "\n",
              "          const docLinkHtml = 'Like what you see? Visit the ' +\n",
              "            '<a target=\"_blank\" href=https://colab.research.google.com/notebooks/data_table.ipynb>data table notebook</a>'\n",
              "            + ' to learn more about interactive tables.';\n",
              "          element.innerHTML = '';\n",
              "          dataTable['output_type'] = 'display_data';\n",
              "          await google.colab.output.renderOutput(dataTable, element);\n",
              "          const docLink = document.createElement('div');\n",
              "          docLink.innerHTML = docLinkHtml;\n",
              "          element.appendChild(docLink);\n",
              "        }\n",
              "      </script>\n",
              "    </div>\n",
              "  </div>\n",
              "  "
            ]
          },
          "metadata": {},
          "execution_count": 193
        }
      ],
      "source": [
        "url=\"https://raw.githubusercontent.com/stedy/Machine-Learning-with-R-datasets/master/insurance.csv\"\n",
        "data = pd.read_csv(url)\n",
        "label_data = data.copy()\n",
        "data.head()"
      ]
    },
    {
      "cell_type": "markdown",
      "metadata": {
        "id": "p96IfiUF7K0h"
      },
      "source": [
        "#Data Evaluation and prepration "
      ]
    },
    {
      "cell_type": "code",
      "execution_count": 194,
      "metadata": {
        "id": "hTxjDLgnwvya",
        "colab": {
          "base_uri": "https://localhost:8080/"
        },
        "outputId": "70ce6255-3432-49e1-961b-d3fa4cf1df6c"
      },
      "outputs": [
        {
          "output_type": "execute_result",
          "data": {
            "text/plain": [
              "(1338, 7)"
            ]
          },
          "metadata": {},
          "execution_count": 194
        }
      ],
      "source": [
        "#Shape of Dataset\n",
        "data.shape"
      ]
    },
    {
      "cell_type": "code",
      "execution_count": 195,
      "metadata": {
        "id": "amXMFJWVvPPc",
        "colab": {
          "base_uri": "https://localhost:8080/",
          "height": 0
        },
        "outputId": "e54fe45b-1545-4921-8eef-a7687204dac3"
      },
      "outputs": [
        {
          "output_type": "execute_result",
          "data": {
            "text/plain": [
              "      age     sex    bmi  children smoker     region     charges\n",
              "1333   50    male  30.97         3     no  northwest  10600.5483\n",
              "1334   18  female  31.92         0     no  northeast   2205.9808\n",
              "1335   18  female  36.85         0     no  southeast   1629.8335\n",
              "1336   21  female  25.80         0     no  southwest   2007.9450\n",
              "1337   61  female  29.07         0    yes  northwest  29141.3603"
            ],
            "text/html": [
              "\n",
              "  <div id=\"df-9189a952-e3f8-40fd-b4f9-c6319806920d\">\n",
              "    <div class=\"colab-df-container\">\n",
              "      <div>\n",
              "<style scoped>\n",
              "    .dataframe tbody tr th:only-of-type {\n",
              "        vertical-align: middle;\n",
              "    }\n",
              "\n",
              "    .dataframe tbody tr th {\n",
              "        vertical-align: top;\n",
              "    }\n",
              "\n",
              "    .dataframe thead th {\n",
              "        text-align: right;\n",
              "    }\n",
              "</style>\n",
              "<table border=\"1\" class=\"dataframe\">\n",
              "  <thead>\n",
              "    <tr style=\"text-align: right;\">\n",
              "      <th></th>\n",
              "      <th>age</th>\n",
              "      <th>sex</th>\n",
              "      <th>bmi</th>\n",
              "      <th>children</th>\n",
              "      <th>smoker</th>\n",
              "      <th>region</th>\n",
              "      <th>charges</th>\n",
              "    </tr>\n",
              "  </thead>\n",
              "  <tbody>\n",
              "    <tr>\n",
              "      <th>1333</th>\n",
              "      <td>50</td>\n",
              "      <td>male</td>\n",
              "      <td>30.97</td>\n",
              "      <td>3</td>\n",
              "      <td>no</td>\n",
              "      <td>northwest</td>\n",
              "      <td>10600.5483</td>\n",
              "    </tr>\n",
              "    <tr>\n",
              "      <th>1334</th>\n",
              "      <td>18</td>\n",
              "      <td>female</td>\n",
              "      <td>31.92</td>\n",
              "      <td>0</td>\n",
              "      <td>no</td>\n",
              "      <td>northeast</td>\n",
              "      <td>2205.9808</td>\n",
              "    </tr>\n",
              "    <tr>\n",
              "      <th>1335</th>\n",
              "      <td>18</td>\n",
              "      <td>female</td>\n",
              "      <td>36.85</td>\n",
              "      <td>0</td>\n",
              "      <td>no</td>\n",
              "      <td>southeast</td>\n",
              "      <td>1629.8335</td>\n",
              "    </tr>\n",
              "    <tr>\n",
              "      <th>1336</th>\n",
              "      <td>21</td>\n",
              "      <td>female</td>\n",
              "      <td>25.80</td>\n",
              "      <td>0</td>\n",
              "      <td>no</td>\n",
              "      <td>southwest</td>\n",
              "      <td>2007.9450</td>\n",
              "    </tr>\n",
              "    <tr>\n",
              "      <th>1337</th>\n",
              "      <td>61</td>\n",
              "      <td>female</td>\n",
              "      <td>29.07</td>\n",
              "      <td>0</td>\n",
              "      <td>yes</td>\n",
              "      <td>northwest</td>\n",
              "      <td>29141.3603</td>\n",
              "    </tr>\n",
              "  </tbody>\n",
              "</table>\n",
              "</div>\n",
              "      <button class=\"colab-df-convert\" onclick=\"convertToInteractive('df-9189a952-e3f8-40fd-b4f9-c6319806920d')\"\n",
              "              title=\"Convert this dataframe to an interactive table.\"\n",
              "              style=\"display:none;\">\n",
              "        \n",
              "  <svg xmlns=\"http://www.w3.org/2000/svg\" height=\"24px\"viewBox=\"0 0 24 24\"\n",
              "       width=\"24px\">\n",
              "    <path d=\"M0 0h24v24H0V0z\" fill=\"none\"/>\n",
              "    <path d=\"M18.56 5.44l.94 2.06.94-2.06 2.06-.94-2.06-.94-.94-2.06-.94 2.06-2.06.94zm-11 1L8.5 8.5l.94-2.06 2.06-.94-2.06-.94L8.5 2.5l-.94 2.06-2.06.94zm10 10l.94 2.06.94-2.06 2.06-.94-2.06-.94-.94-2.06-.94 2.06-2.06.94z\"/><path d=\"M17.41 7.96l-1.37-1.37c-.4-.4-.92-.59-1.43-.59-.52 0-1.04.2-1.43.59L10.3 9.45l-7.72 7.72c-.78.78-.78 2.05 0 2.83L4 21.41c.39.39.9.59 1.41.59.51 0 1.02-.2 1.41-.59l7.78-7.78 2.81-2.81c.8-.78.8-2.07 0-2.86zM5.41 20L4 18.59l7.72-7.72 1.47 1.35L5.41 20z\"/>\n",
              "  </svg>\n",
              "      </button>\n",
              "      \n",
              "  <style>\n",
              "    .colab-df-container {\n",
              "      display:flex;\n",
              "      flex-wrap:wrap;\n",
              "      gap: 12px;\n",
              "    }\n",
              "\n",
              "    .colab-df-convert {\n",
              "      background-color: #E8F0FE;\n",
              "      border: none;\n",
              "      border-radius: 50%;\n",
              "      cursor: pointer;\n",
              "      display: none;\n",
              "      fill: #1967D2;\n",
              "      height: 32px;\n",
              "      padding: 0 0 0 0;\n",
              "      width: 32px;\n",
              "    }\n",
              "\n",
              "    .colab-df-convert:hover {\n",
              "      background-color: #E2EBFA;\n",
              "      box-shadow: 0px 1px 2px rgba(60, 64, 67, 0.3), 0px 1px 3px 1px rgba(60, 64, 67, 0.15);\n",
              "      fill: #174EA6;\n",
              "    }\n",
              "\n",
              "    [theme=dark] .colab-df-convert {\n",
              "      background-color: #3B4455;\n",
              "      fill: #D2E3FC;\n",
              "    }\n",
              "\n",
              "    [theme=dark] .colab-df-convert:hover {\n",
              "      background-color: #434B5C;\n",
              "      box-shadow: 0px 1px 3px 1px rgba(0, 0, 0, 0.15);\n",
              "      filter: drop-shadow(0px 1px 2px rgba(0, 0, 0, 0.3));\n",
              "      fill: #FFFFFF;\n",
              "    }\n",
              "  </style>\n",
              "\n",
              "      <script>\n",
              "        const buttonEl =\n",
              "          document.querySelector('#df-9189a952-e3f8-40fd-b4f9-c6319806920d button.colab-df-convert');\n",
              "        buttonEl.style.display =\n",
              "          google.colab.kernel.accessAllowed ? 'block' : 'none';\n",
              "\n",
              "        async function convertToInteractive(key) {\n",
              "          const element = document.querySelector('#df-9189a952-e3f8-40fd-b4f9-c6319806920d');\n",
              "          const dataTable =\n",
              "            await google.colab.kernel.invokeFunction('convertToInteractive',\n",
              "                                                     [key], {});\n",
              "          if (!dataTable) return;\n",
              "\n",
              "          const docLinkHtml = 'Like what you see? Visit the ' +\n",
              "            '<a target=\"_blank\" href=https://colab.research.google.com/notebooks/data_table.ipynb>data table notebook</a>'\n",
              "            + ' to learn more about interactive tables.';\n",
              "          element.innerHTML = '';\n",
              "          dataTable['output_type'] = 'display_data';\n",
              "          await google.colab.output.renderOutput(dataTable, element);\n",
              "          const docLink = document.createElement('div');\n",
              "          docLink.innerHTML = docLinkHtml;\n",
              "          element.appendChild(docLink);\n",
              "        }\n",
              "      </script>\n",
              "    </div>\n",
              "  </div>\n",
              "  "
            ]
          },
          "metadata": {},
          "execution_count": 195
        }
      ],
      "source": [
        "#Last 5 entries of Dataset\n",
        "data.tail()"
      ]
    },
    {
      "cell_type": "code",
      "execution_count": 196,
      "metadata": {
        "id": "VnqhmakuvQo6",
        "colab": {
          "base_uri": "https://localhost:8080/"
        },
        "outputId": "d219ea99-a146-4058-efc3-7e206c5c85b6"
      },
      "outputs": [
        {
          "output_type": "execute_result",
          "data": {
            "text/plain": [
              "<bound method DataFrame.info of       age     sex     bmi  children smoker     region      charges\n",
              "0      19  female  27.900         0    yes  southwest  16884.92400\n",
              "1      18    male  33.770         1     no  southeast   1725.55230\n",
              "2      28    male  33.000         3     no  southeast   4449.46200\n",
              "3      33    male  22.705         0     no  northwest  21984.47061\n",
              "4      32    male  28.880         0     no  northwest   3866.85520\n",
              "...   ...     ...     ...       ...    ...        ...          ...\n",
              "1333   50    male  30.970         3     no  northwest  10600.54830\n",
              "1334   18  female  31.920         0     no  northeast   2205.98080\n",
              "1335   18  female  36.850         0     no  southeast   1629.83350\n",
              "1336   21  female  25.800         0     no  southwest   2007.94500\n",
              "1337   61  female  29.070         0    yes  northwest  29141.36030\n",
              "\n",
              "[1338 rows x 7 columns]>"
            ]
          },
          "metadata": {},
          "execution_count": 196
        }
      ],
      "source": [
        "#Information on dataset \n",
        "data.info"
      ]
    },
    {
      "cell_type": "code",
      "execution_count": 197,
      "metadata": {
        "id": "TVj0DjU5vRia",
        "colab": {
          "base_uri": "https://localhost:8080/"
        },
        "outputId": "ce433ab7-8771-4e29-ccb3-2c82064c52b9"
      },
      "outputs": [
        {
          "output_type": "execute_result",
          "data": {
            "text/plain": [
              "age         0\n",
              "sex         0\n",
              "bmi         0\n",
              "children    0\n",
              "smoker      0\n",
              "region      0\n",
              "charges     0\n",
              "dtype: int64"
            ]
          },
          "metadata": {},
          "execution_count": 197
        }
      ],
      "source": [
        "#to find if any null values are present \n",
        "data.isnull().sum()"
      ]
    },
    {
      "cell_type": "code",
      "execution_count": 198,
      "metadata": {
        "id": "n_SEWKJdvX6a",
        "colab": {
          "base_uri": "https://localhost:8080/",
          "height": 0
        },
        "outputId": "a8f3d21d-1ec9-4451-cdad-97e474eea643"
      },
      "outputs": [
        {
          "output_type": "execute_result",
          "data": {
            "text/plain": [
              "               age          bmi     children       charges\n",
              "count  1338.000000  1338.000000  1338.000000   1338.000000\n",
              "mean     39.207025    30.663397     1.094918  13270.422265\n",
              "std      14.049960     6.098187     1.205493  12110.011237\n",
              "min      18.000000    15.960000     0.000000   1121.873900\n",
              "25%      27.000000    26.296250     0.000000   4740.287150\n",
              "50%      39.000000    30.400000     1.000000   9382.033000\n",
              "75%      51.000000    34.693750     2.000000  16639.912515\n",
              "max      64.000000    53.130000     5.000000  63770.428010"
            ],
            "text/html": [
              "\n",
              "  <div id=\"df-758e7a1d-b041-4169-983c-b34590bdec0c\">\n",
              "    <div class=\"colab-df-container\">\n",
              "      <div>\n",
              "<style scoped>\n",
              "    .dataframe tbody tr th:only-of-type {\n",
              "        vertical-align: middle;\n",
              "    }\n",
              "\n",
              "    .dataframe tbody tr th {\n",
              "        vertical-align: top;\n",
              "    }\n",
              "\n",
              "    .dataframe thead th {\n",
              "        text-align: right;\n",
              "    }\n",
              "</style>\n",
              "<table border=\"1\" class=\"dataframe\">\n",
              "  <thead>\n",
              "    <tr style=\"text-align: right;\">\n",
              "      <th></th>\n",
              "      <th>age</th>\n",
              "      <th>bmi</th>\n",
              "      <th>children</th>\n",
              "      <th>charges</th>\n",
              "    </tr>\n",
              "  </thead>\n",
              "  <tbody>\n",
              "    <tr>\n",
              "      <th>count</th>\n",
              "      <td>1338.000000</td>\n",
              "      <td>1338.000000</td>\n",
              "      <td>1338.000000</td>\n",
              "      <td>1338.000000</td>\n",
              "    </tr>\n",
              "    <tr>\n",
              "      <th>mean</th>\n",
              "      <td>39.207025</td>\n",
              "      <td>30.663397</td>\n",
              "      <td>1.094918</td>\n",
              "      <td>13270.422265</td>\n",
              "    </tr>\n",
              "    <tr>\n",
              "      <th>std</th>\n",
              "      <td>14.049960</td>\n",
              "      <td>6.098187</td>\n",
              "      <td>1.205493</td>\n",
              "      <td>12110.011237</td>\n",
              "    </tr>\n",
              "    <tr>\n",
              "      <th>min</th>\n",
              "      <td>18.000000</td>\n",
              "      <td>15.960000</td>\n",
              "      <td>0.000000</td>\n",
              "      <td>1121.873900</td>\n",
              "    </tr>\n",
              "    <tr>\n",
              "      <th>25%</th>\n",
              "      <td>27.000000</td>\n",
              "      <td>26.296250</td>\n",
              "      <td>0.000000</td>\n",
              "      <td>4740.287150</td>\n",
              "    </tr>\n",
              "    <tr>\n",
              "      <th>50%</th>\n",
              "      <td>39.000000</td>\n",
              "      <td>30.400000</td>\n",
              "      <td>1.000000</td>\n",
              "      <td>9382.033000</td>\n",
              "    </tr>\n",
              "    <tr>\n",
              "      <th>75%</th>\n",
              "      <td>51.000000</td>\n",
              "      <td>34.693750</td>\n",
              "      <td>2.000000</td>\n",
              "      <td>16639.912515</td>\n",
              "    </tr>\n",
              "    <tr>\n",
              "      <th>max</th>\n",
              "      <td>64.000000</td>\n",
              "      <td>53.130000</td>\n",
              "      <td>5.000000</td>\n",
              "      <td>63770.428010</td>\n",
              "    </tr>\n",
              "  </tbody>\n",
              "</table>\n",
              "</div>\n",
              "      <button class=\"colab-df-convert\" onclick=\"convertToInteractive('df-758e7a1d-b041-4169-983c-b34590bdec0c')\"\n",
              "              title=\"Convert this dataframe to an interactive table.\"\n",
              "              style=\"display:none;\">\n",
              "        \n",
              "  <svg xmlns=\"http://www.w3.org/2000/svg\" height=\"24px\"viewBox=\"0 0 24 24\"\n",
              "       width=\"24px\">\n",
              "    <path d=\"M0 0h24v24H0V0z\" fill=\"none\"/>\n",
              "    <path d=\"M18.56 5.44l.94 2.06.94-2.06 2.06-.94-2.06-.94-.94-2.06-.94 2.06-2.06.94zm-11 1L8.5 8.5l.94-2.06 2.06-.94-2.06-.94L8.5 2.5l-.94 2.06-2.06.94zm10 10l.94 2.06.94-2.06 2.06-.94-2.06-.94-.94-2.06-.94 2.06-2.06.94z\"/><path d=\"M17.41 7.96l-1.37-1.37c-.4-.4-.92-.59-1.43-.59-.52 0-1.04.2-1.43.59L10.3 9.45l-7.72 7.72c-.78.78-.78 2.05 0 2.83L4 21.41c.39.39.9.59 1.41.59.51 0 1.02-.2 1.41-.59l7.78-7.78 2.81-2.81c.8-.78.8-2.07 0-2.86zM5.41 20L4 18.59l7.72-7.72 1.47 1.35L5.41 20z\"/>\n",
              "  </svg>\n",
              "      </button>\n",
              "      \n",
              "  <style>\n",
              "    .colab-df-container {\n",
              "      display:flex;\n",
              "      flex-wrap:wrap;\n",
              "      gap: 12px;\n",
              "    }\n",
              "\n",
              "    .colab-df-convert {\n",
              "      background-color: #E8F0FE;\n",
              "      border: none;\n",
              "      border-radius: 50%;\n",
              "      cursor: pointer;\n",
              "      display: none;\n",
              "      fill: #1967D2;\n",
              "      height: 32px;\n",
              "      padding: 0 0 0 0;\n",
              "      width: 32px;\n",
              "    }\n",
              "\n",
              "    .colab-df-convert:hover {\n",
              "      background-color: #E2EBFA;\n",
              "      box-shadow: 0px 1px 2px rgba(60, 64, 67, 0.3), 0px 1px 3px 1px rgba(60, 64, 67, 0.15);\n",
              "      fill: #174EA6;\n",
              "    }\n",
              "\n",
              "    [theme=dark] .colab-df-convert {\n",
              "      background-color: #3B4455;\n",
              "      fill: #D2E3FC;\n",
              "    }\n",
              "\n",
              "    [theme=dark] .colab-df-convert:hover {\n",
              "      background-color: #434B5C;\n",
              "      box-shadow: 0px 1px 3px 1px rgba(0, 0, 0, 0.15);\n",
              "      filter: drop-shadow(0px 1px 2px rgba(0, 0, 0, 0.3));\n",
              "      fill: #FFFFFF;\n",
              "    }\n",
              "  </style>\n",
              "\n",
              "      <script>\n",
              "        const buttonEl =\n",
              "          document.querySelector('#df-758e7a1d-b041-4169-983c-b34590bdec0c button.colab-df-convert');\n",
              "        buttonEl.style.display =\n",
              "          google.colab.kernel.accessAllowed ? 'block' : 'none';\n",
              "\n",
              "        async function convertToInteractive(key) {\n",
              "          const element = document.querySelector('#df-758e7a1d-b041-4169-983c-b34590bdec0c');\n",
              "          const dataTable =\n",
              "            await google.colab.kernel.invokeFunction('convertToInteractive',\n",
              "                                                     [key], {});\n",
              "          if (!dataTable) return;\n",
              "\n",
              "          const docLinkHtml = 'Like what you see? Visit the ' +\n",
              "            '<a target=\"_blank\" href=https://colab.research.google.com/notebooks/data_table.ipynb>data table notebook</a>'\n",
              "            + ' to learn more about interactive tables.';\n",
              "          element.innerHTML = '';\n",
              "          dataTable['output_type'] = 'display_data';\n",
              "          await google.colab.output.renderOutput(dataTable, element);\n",
              "          const docLink = document.createElement('div');\n",
              "          docLink.innerHTML = docLinkHtml;\n",
              "          element.appendChild(docLink);\n",
              "        }\n",
              "      </script>\n",
              "    </div>\n",
              "  </div>\n",
              "  "
            ]
          },
          "metadata": {},
          "execution_count": 198
        }
      ],
      "source": [
        "#Used to describe the dataset (Count , Mean , min , max )\n",
        "data.describe()"
      ]
    },
    {
      "cell_type": "code",
      "execution_count": 199,
      "metadata": {
        "id": "Ny-p00X6yQeT",
        "colab": {
          "base_uri": "https://localhost:8080/"
        },
        "outputId": "8b5ce997-67ff-45da-f6d1-24e4c87e368e"
      },
      "outputs": [
        {
          "output_type": "execute_result",
          "data": {
            "text/plain": [
              "(1336, 7)"
            ]
          },
          "metadata": {},
          "execution_count": 199
        }
      ],
      "source": [
        "data = data[(data[\"bmi\"]<53)&(data[\"bmi\"]>15)]\n",
        "data = data[(data[\"charges\"]<63000)]\n",
        "\n",
        "data.shape"
      ]
    },
    {
      "cell_type": "code",
      "execution_count": 200,
      "metadata": {
        "id": "82j7vPCy1ByX",
        "colab": {
          "base_uri": "https://localhost:8080/"
        },
        "outputId": "d4b96144-e893-4e17-f8e4-b147e2fb92cd"
      },
      "outputs": [
        {
          "output_type": "stream",
          "name": "stdout",
          "text": [
            "Categorical variables:\n",
            "['sex', 'smoker', 'region']\n"
          ]
        }
      ],
      "source": [
        "s = (data.dtypes ==\"object\")\n",
        "object_cols = list(s[s].index)\n",
        "print(\"Categorical variables:\")\n",
        "print(object_cols)"
      ]
    },
    {
      "cell_type": "code",
      "execution_count": 201,
      "metadata": {
        "id": "XrXsix921_OB",
        "colab": {
          "base_uri": "https://localhost:8080/",
          "height": 0
        },
        "outputId": "c6554e45-80e5-4624-8b28-27fdc6b68df9"
      },
      "outputs": [
        {
          "output_type": "execute_result",
          "data": {
            "text/plain": [
              "   age  sex     bmi  children  smoker  region      charges\n",
              "0   19    0  27.900         0       1       3  16884.92400\n",
              "1   18    1  33.770         1       0       2   1725.55230\n",
              "2   28    1  33.000         3       0       2   4449.46200\n",
              "3   33    1  22.705         0       0       1  21984.47061\n",
              "4   32    1  28.880         0       0       1   3866.85520"
            ],
            "text/html": [
              "\n",
              "  <div id=\"df-fb6005ea-db5e-47ac-93b0-4144419a4c5d\">\n",
              "    <div class=\"colab-df-container\">\n",
              "      <div>\n",
              "<style scoped>\n",
              "    .dataframe tbody tr th:only-of-type {\n",
              "        vertical-align: middle;\n",
              "    }\n",
              "\n",
              "    .dataframe tbody tr th {\n",
              "        vertical-align: top;\n",
              "    }\n",
              "\n",
              "    .dataframe thead th {\n",
              "        text-align: right;\n",
              "    }\n",
              "</style>\n",
              "<table border=\"1\" class=\"dataframe\">\n",
              "  <thead>\n",
              "    <tr style=\"text-align: right;\">\n",
              "      <th></th>\n",
              "      <th>age</th>\n",
              "      <th>sex</th>\n",
              "      <th>bmi</th>\n",
              "      <th>children</th>\n",
              "      <th>smoker</th>\n",
              "      <th>region</th>\n",
              "      <th>charges</th>\n",
              "    </tr>\n",
              "  </thead>\n",
              "  <tbody>\n",
              "    <tr>\n",
              "      <th>0</th>\n",
              "      <td>19</td>\n",
              "      <td>0</td>\n",
              "      <td>27.900</td>\n",
              "      <td>0</td>\n",
              "      <td>1</td>\n",
              "      <td>3</td>\n",
              "      <td>16884.92400</td>\n",
              "    </tr>\n",
              "    <tr>\n",
              "      <th>1</th>\n",
              "      <td>18</td>\n",
              "      <td>1</td>\n",
              "      <td>33.770</td>\n",
              "      <td>1</td>\n",
              "      <td>0</td>\n",
              "      <td>2</td>\n",
              "      <td>1725.55230</td>\n",
              "    </tr>\n",
              "    <tr>\n",
              "      <th>2</th>\n",
              "      <td>28</td>\n",
              "      <td>1</td>\n",
              "      <td>33.000</td>\n",
              "      <td>3</td>\n",
              "      <td>0</td>\n",
              "      <td>2</td>\n",
              "      <td>4449.46200</td>\n",
              "    </tr>\n",
              "    <tr>\n",
              "      <th>3</th>\n",
              "      <td>33</td>\n",
              "      <td>1</td>\n",
              "      <td>22.705</td>\n",
              "      <td>0</td>\n",
              "      <td>0</td>\n",
              "      <td>1</td>\n",
              "      <td>21984.47061</td>\n",
              "    </tr>\n",
              "    <tr>\n",
              "      <th>4</th>\n",
              "      <td>32</td>\n",
              "      <td>1</td>\n",
              "      <td>28.880</td>\n",
              "      <td>0</td>\n",
              "      <td>0</td>\n",
              "      <td>1</td>\n",
              "      <td>3866.85520</td>\n",
              "    </tr>\n",
              "  </tbody>\n",
              "</table>\n",
              "</div>\n",
              "      <button class=\"colab-df-convert\" onclick=\"convertToInteractive('df-fb6005ea-db5e-47ac-93b0-4144419a4c5d')\"\n",
              "              title=\"Convert this dataframe to an interactive table.\"\n",
              "              style=\"display:none;\">\n",
              "        \n",
              "  <svg xmlns=\"http://www.w3.org/2000/svg\" height=\"24px\"viewBox=\"0 0 24 24\"\n",
              "       width=\"24px\">\n",
              "    <path d=\"M0 0h24v24H0V0z\" fill=\"none\"/>\n",
              "    <path d=\"M18.56 5.44l.94 2.06.94-2.06 2.06-.94-2.06-.94-.94-2.06-.94 2.06-2.06.94zm-11 1L8.5 8.5l.94-2.06 2.06-.94-2.06-.94L8.5 2.5l-.94 2.06-2.06.94zm10 10l.94 2.06.94-2.06 2.06-.94-2.06-.94-.94-2.06-.94 2.06-2.06.94z\"/><path d=\"M17.41 7.96l-1.37-1.37c-.4-.4-.92-.59-1.43-.59-.52 0-1.04.2-1.43.59L10.3 9.45l-7.72 7.72c-.78.78-.78 2.05 0 2.83L4 21.41c.39.39.9.59 1.41.59.51 0 1.02-.2 1.41-.59l7.78-7.78 2.81-2.81c.8-.78.8-2.07 0-2.86zM5.41 20L4 18.59l7.72-7.72 1.47 1.35L5.41 20z\"/>\n",
              "  </svg>\n",
              "      </button>\n",
              "      \n",
              "  <style>\n",
              "    .colab-df-container {\n",
              "      display:flex;\n",
              "      flex-wrap:wrap;\n",
              "      gap: 12px;\n",
              "    }\n",
              "\n",
              "    .colab-df-convert {\n",
              "      background-color: #E8F0FE;\n",
              "      border: none;\n",
              "      border-radius: 50%;\n",
              "      cursor: pointer;\n",
              "      display: none;\n",
              "      fill: #1967D2;\n",
              "      height: 32px;\n",
              "      padding: 0 0 0 0;\n",
              "      width: 32px;\n",
              "    }\n",
              "\n",
              "    .colab-df-convert:hover {\n",
              "      background-color: #E2EBFA;\n",
              "      box-shadow: 0px 1px 2px rgba(60, 64, 67, 0.3), 0px 1px 3px 1px rgba(60, 64, 67, 0.15);\n",
              "      fill: #174EA6;\n",
              "    }\n",
              "\n",
              "    [theme=dark] .colab-df-convert {\n",
              "      background-color: #3B4455;\n",
              "      fill: #D2E3FC;\n",
              "    }\n",
              "\n",
              "    [theme=dark] .colab-df-convert:hover {\n",
              "      background-color: #434B5C;\n",
              "      box-shadow: 0px 1px 3px 1px rgba(0, 0, 0, 0.15);\n",
              "      filter: drop-shadow(0px 1px 2px rgba(0, 0, 0, 0.3));\n",
              "      fill: #FFFFFF;\n",
              "    }\n",
              "  </style>\n",
              "\n",
              "      <script>\n",
              "        const buttonEl =\n",
              "          document.querySelector('#df-fb6005ea-db5e-47ac-93b0-4144419a4c5d button.colab-df-convert');\n",
              "        buttonEl.style.display =\n",
              "          google.colab.kernel.accessAllowed ? 'block' : 'none';\n",
              "\n",
              "        async function convertToInteractive(key) {\n",
              "          const element = document.querySelector('#df-fb6005ea-db5e-47ac-93b0-4144419a4c5d');\n",
              "          const dataTable =\n",
              "            await google.colab.kernel.invokeFunction('convertToInteractive',\n",
              "                                                     [key], {});\n",
              "          if (!dataTable) return;\n",
              "\n",
              "          const docLinkHtml = 'Like what you see? Visit the ' +\n",
              "            '<a target=\"_blank\" href=https://colab.research.google.com/notebooks/data_table.ipynb>data table notebook</a>'\n",
              "            + ' to learn more about interactive tables.';\n",
              "          element.innerHTML = '';\n",
              "          dataTable['output_type'] = 'display_data';\n",
              "          await google.colab.output.renderOutput(dataTable, element);\n",
              "          const docLink = document.createElement('div');\n",
              "          docLink.innerHTML = docLinkHtml;\n",
              "          element.appendChild(docLink);\n",
              "        }\n",
              "      </script>\n",
              "    </div>\n",
              "  </div>\n",
              "  "
            ]
          },
          "metadata": {},
          "execution_count": 201
        }
      ],
      "source": [
        "# Apply label encoder to each column with categorical data\n",
        "label_encoder = LabelEncoder()\n",
        "for col in object_cols:\n",
        "    label_data[col] = label_encoder.fit_transform(label_data[col])\n",
        "label_data.head()"
      ]
    },
    {
      "cell_type": "markdown",
      "metadata": {
        "id": "G-9pv-93h-In"
      },
      "source": [
        "#**Prediction of medical insurance using attribute 'AGE'**"
      ]
    },
    {
      "cell_type": "code",
      "execution_count": 202,
      "metadata": {
        "id": "ekZ8V9jCzPnS",
        "colab": {
          "base_uri": "https://localhost:8080/"
        },
        "outputId": "42cd0011-bf00-48eb-80bd-2c1af3c3327a"
      },
      "outputs": [
        {
          "output_type": "stream",
          "name": "stdout",
          "text": [
            "X_train shape(1070, 1)\n",
            "X_test shape(268, 1)\n",
            "Y_train shape(1070,)\n",
            "Y_test shape(268,)\n"
          ]
        }
      ],
      "source": [
        "X= label_data.drop([\"charges\",\"sex\",\"bmi\",\"children\",\"smoker\",\"region\"],axis =1)\n",
        "y= label_data[\"charges\"]\n",
        "X_train, X_test, y_train, y_test = train_test_split(X, y,test_size=0.20,random_state=42)\n",
        "\n",
        "print(f\"X_train shape{X_train.shape}\")\n",
        "print(f\"X_test shape{X_test.shape}\")\n",
        "print(f\"Y_train shape{y_train.shape}\")\n",
        "print(f\"Y_test shape{y_test.shape}\")"
      ]
    },
    {
      "cell_type": "code",
      "execution_count": 203,
      "metadata": {
        "id": "jJvNjPcp0IKW"
      },
      "outputs": [],
      "source": [
        "Lin_reg = LinearRegression()\n",
        "Lin_reg.fit(X_train,y_train)\n",
        "Lin_pred = Lin_reg.predict(X_test)\n",
        "\n",
        "Rand_reg=RandomForestRegressor()\n",
        "Rand_reg.fit(X_train,y_train)\n",
        "Rand_pred = Rand_reg.predict(X_test)"
      ]
    },
    {
      "cell_type": "code",
      "execution_count": 204,
      "metadata": {
        "id": "sbuxOQUxi8Av",
        "colab": {
          "base_uri": "https://localhost:8080/"
        },
        "outputId": "d1dab472-7f0e-4aea-cf48-6a4b7af56185"
      },
      "outputs": [
        {
          "output_type": "stream",
          "name": "stdout",
          "text": [
            "MSE for linear regression : 135983957.4805469\n",
            "MSE for Random forest regression : 142182803.67696843\n",
            "------------------------------------------------------------------------------------------\n",
            "MAE for linear regression : 9173.258196746589\n",
            "MAE for Random forest regression : 9163.903696554606\n",
            "------------------------------------------------------------------------------------------\n",
            "RMSE for linear regression : 11661.21595205864\n",
            "RMSE for Random forest regression : 11924.04309271685\n"
          ]
        }
      ],
      "source": [
        "from sklearn.metrics import *\n",
        "#Mean squared error\n",
        "print('MSE for linear regression :', mean_squared_error(y_test, Lin_pred))\n",
        "print('MSE for Random forest regression :', mean_squared_error(y_test, Rand_pred))\n",
        "print(\"------------------------------------------------------------------------------------------\")\n",
        "\n",
        "#Mean absolute error\n",
        "print('MAE for linear regression :', mean_absolute_error(y_test, Lin_pred))\n",
        "print('MAE for Random forest regression :', mean_absolute_error(y_test, Rand_pred))\n",
        "print(\"------------------------------------------------------------------------------------------\")\n",
        "\n",
        "#Root mean squared error\n",
        "print('RMSE for linear regression :', np.sqrt(mean_squared_error(y_test, Lin_pred)))\n",
        "print('RMSE for Random forest regression :', np.sqrt(mean_squared_error(y_test, Rand_pred)))\n"
      ]
    },
    {
      "cell_type": "code",
      "execution_count": 205,
      "metadata": {
        "id": "MfeYHLku5dlM",
        "colab": {
          "base_uri": "https://localhost:8080/"
        },
        "outputId": "bf65b9e5-de6f-425d-8b9a-79ad73223148"
      },
      "outputs": [
        {
          "output_type": "stream",
          "name": "stdout",
          "text": [
            "The R2 score for linear regression 0.12408973539501944\n",
            "The R2 score is for Random Forest regression 0.08416125329499025\n"
          ]
        }
      ],
      "source": [
        "print(f\"The R2 score for linear regression {r2_score(y_test,Lin_pred)}\")\n",
        "print(f\"The R2 score is for Random Forest regression {r2_score(y_test,Rand_pred)}\")"
      ]
    },
    {
      "cell_type": "code",
      "execution_count": 206,
      "metadata": {
        "id": "o8D6Hc6P0pFK",
        "colab": {
          "base_uri": "https://localhost:8080/",
          "height": 279
        },
        "outputId": "e161fb0c-24c6-4b96-edcd-1e6d364178a6"
      },
      "outputs": [
        {
          "output_type": "display_data",
          "data": {
            "text/plain": [
              "<Figure size 432x288 with 1 Axes>"
            ],
            "image/png": "[encoded data removed]"
          },
          "metadata": {
            "needs_background": "light"
          }
        }
      ],
      "source": [
        "plt.scatter(y_test,Lin_pred)\n",
        "plt.xlabel('Y test')\n",
        "plt.ylabel('Y pred')\n",
        "plt.show()"
      ]
    },
    {
      "cell_type": "code",
      "execution_count": 207,
      "metadata": {
        "id": "2HTCu14j-18j",
        "colab": {
          "base_uri": "https://localhost:8080/",
          "height": 281
        },
        "outputId": "e80a3a09-b67a-4daf-da21-937e62987fd9"
      },
      "outputs": [
        {
          "output_type": "display_data",
          "data": {
            "text/plain": [
              "<Figure size 432x288 with 1 Axes>"
            ],
            "image/png": "[encoded data removed]"
          },
          "metadata": {
            "needs_background": "light"
          }
        }
      ],
      "source": [
        "plt.scatter(y_test,Rand_pred)\n",
        "plt.xlabel('Y test')\n",
        "plt.ylabel('Y pred')\n",
        "plt.show()"
      ]
    },
    {
      "cell_type": "code",
      "execution_count": 208,
      "metadata": {
        "id": "eLI_etg79U48",
        "colab": {
          "base_uri": "https://localhost:8080/",
          "height": 98
        },
        "outputId": "5f8dbe2f-b764-4a80-d8b1-e50fa641f795"
      },
      "outputs": [
        {
          "name": "stdout",
          "output_type": "stream",
          "text": [
            "What is the age of the patient admitted ? 30\n"
          ]
        },
        {
          "output_type": "execute_result",
          "data": {
            "text/plain": [
              "  age\n",
              "0  30"
            ],
            "text/html": [
              "\n",
              "  <div id=\"df-d09b3416-5ded-439e-8437-da7fc29aaede\">\n",
              "    <div class=\"colab-df-container\">\n",
              "      <div>\n",
              "<style scoped>\n",
              "    .dataframe tbody tr th:only-of-type {\n",
              "        vertical-align: middle;\n",
              "    }\n",
              "\n",
              "    .dataframe tbody tr th {\n",
              "        vertical-align: top;\n",
              "    }\n",
              "\n",
              "    .dataframe thead th {\n",
              "        text-align: right;\n",
              "    }\n",
              "</style>\n",
              "<table border=\"1\" class=\"dataframe\">\n",
              "  <thead>\n",
              "    <tr style=\"text-align: right;\">\n",
              "      <th></th>\n",
              "      <th>age</th>\n",
              "    </tr>\n",
              "  </thead>\n",
              "  <tbody>\n",
              "    <tr>\n",
              "      <th>0</th>\n",
              "      <td>30</td>\n",
              "    </tr>\n",
              "  </tbody>\n",
              "</table>\n",
              "</div>\n",
              "      <button class=\"colab-df-convert\" onclick=\"convertToInteractive('df-d09b3416-5ded-439e-8437-da7fc29aaede')\"\n",
              "              title=\"Convert this dataframe to an interactive table.\"\n",
              "              style=\"display:none;\">\n",
              "        \n",
              "  <svg xmlns=\"http://www.w3.org/2000/svg\" height=\"24px\"viewBox=\"0 0 24 24\"\n",
              "       width=\"24px\">\n",
              "    <path d=\"M0 0h24v24H0V0z\" fill=\"none\"/>\n",
              "    <path d=\"M18.56 5.44l.94 2.06.94-2.06 2.06-.94-2.06-.94-.94-2.06-.94 2.06-2.06.94zm-11 1L8.5 8.5l.94-2.06 2.06-.94-2.06-.94L8.5 2.5l-.94 2.06-2.06.94zm10 10l.94 2.06.94-2.06 2.06-.94-2.06-.94-.94-2.06-.94 2.06-2.06.94z\"/><path d=\"M17.41 7.96l-1.37-1.37c-.4-.4-.92-.59-1.43-.59-.52 0-1.04.2-1.43.59L10.3 9.45l-7.72 7.72c-.78.78-.78 2.05 0 2.83L4 21.41c.39.39.9.59 1.41.59.51 0 1.02-.2 1.41-.59l7.78-7.78 2.81-2.81c.8-.78.8-2.07 0-2.86zM5.41 20L4 18.59l7.72-7.72 1.47 1.35L5.41 20z\"/>\n",
              "  </svg>\n",
              "      </button>\n",
              "      \n",
              "  <style>\n",
              "    .colab-df-container {\n",
              "      display:flex;\n",
              "      flex-wrap:wrap;\n",
              "      gap: 12px;\n",
              "    }\n",
              "\n",
              "    .colab-df-convert {\n",
              "      background-color: #E8F0FE;\n",
              "      border: none;\n",
              "      border-radius: 50%;\n",
              "      cursor: pointer;\n",
              "      display: none;\n",
              "      fill: #1967D2;\n",
              "      height: 32px;\n",
              "      padding: 0 0 0 0;\n",
              "      width: 32px;\n",
              "    }\n",
              "\n",
              "    .colab-df-convert:hover {\n",
              "      background-color: #E2EBFA;\n",
              "      box-shadow: 0px 1px 2px rgba(60, 64, 67, 0.3), 0px 1px 3px 1px rgba(60, 64, 67, 0.15);\n",
              "      fill: #174EA6;\n",
              "    }\n",
              "\n",
              "    [theme=dark] .colab-df-convert {\n",
              "      background-color: #3B4455;\n",
              "      fill: #D2E3FC;\n",
              "    }\n",
              "\n",
              "    [theme=dark] .colab-df-convert:hover {\n",
              "      background-color: #434B5C;\n",
              "      box-shadow: 0px 1px 3px 1px rgba(0, 0, 0, 0.15);\n",
              "      filter: drop-shadow(0px 1px 2px rgba(0, 0, 0, 0.3));\n",
              "      fill: #FFFFFF;\n",
              "    }\n",
              "  </style>\n",
              "\n",
              "      <script>\n",
              "        const buttonEl =\n",
              "          document.querySelector('#df-d09b3416-5ded-439e-8437-da7fc29aaede button.colab-df-convert');\n",
              "        buttonEl.style.display =\n",
              "          google.colab.kernel.accessAllowed ? 'block' : 'none';\n",
              "\n",
              "        async function convertToInteractive(key) {\n",
              "          const element = document.querySelector('#df-d09b3416-5ded-439e-8437-da7fc29aaede');\n",
              "          const dataTable =\n",
              "            await google.colab.kernel.invokeFunction('convertToInteractive',\n",
              "                                                     [key], {});\n",
              "          if (!dataTable) return;\n",
              "\n",
              "          const docLinkHtml = 'Like what you see? Visit the ' +\n",
              "            '<a target=\"_blank\" href=https://colab.research.google.com/notebooks/data_table.ipynb>data table notebook</a>'\n",
              "            + ' to learn more about interactive tables.';\n",
              "          element.innerHTML = '';\n",
              "          dataTable['output_type'] = 'display_data';\n",
              "          await google.colab.output.renderOutput(dataTable, element);\n",
              "          const docLink = document.createElement('div');\n",
              "          docLink.innerHTML = docLinkHtml;\n",
              "          element.appendChild(docLink);\n",
              "        }\n",
              "      </script>\n",
              "    </div>\n",
              "  </div>\n",
              "  "
            ]
          },
          "metadata": {},
          "execution_count": 208
        }
      ],
      "source": [
        "a=input(\"What is the age of the patient admitted ? \")\n",
        "data = {'age':a}\n",
        "index = [0]\n",
        "cust_df = pd.DataFrame(data, index)\n",
        "cust_df"
      ]
    },
    {
      "cell_type": "code",
      "execution_count": 209,
      "metadata": {
        "id": "hl8Gu9C19lKh",
        "colab": {
          "base_uri": "https://localhost:8080/"
        },
        "outputId": "d03fb834-aae0-4f97-89ad-18fcf49b7415"
      },
      "outputs": [
        {
          "output_type": "stream",
          "name": "stdout",
          "text": [
            "The medical insurance cost of the new customer under Linear regression is:  [11094.82547785]\n",
            "The medical insurance cost of the new customer under Random forest regression is:  [15733.23237644]\n"
          ]
        }
      ],
      "source": [
        "costpredLin = Lin_reg.predict(cust_df)\n",
        "costpredRand = Rand_reg.predict(cust_df)\n",
        "\n",
        "print(\"The medical insurance cost of the new customer under Linear regression is: \", costpredLin)\n",
        "print(\"The medical insurance cost of the new customer under Random forest regression is: \", costpredRand)"
      ]
    },
    {
      "cell_type": "markdown",
      "metadata": {
        "id": "eVhnp7iEphJU"
      },
      "source": [
        "#**Prediction of medical insurance using attribute 'SEX'**"
      ]
    },
    {
      "cell_type": "code",
      "execution_count": 222,
      "metadata": {
        "id": "LTX2MXFipk-M",
        "colab": {
          "base_uri": "https://localhost:8080/"
        },
        "outputId": "1916fd9a-ce1b-4b00-b0e9-645288efb3cb"
      },
      "outputs": [
        {
          "output_type": "stream",
          "name": "stdout",
          "text": [
            "X_train shape(1070, 1)\n",
            "X_test shape(268, 1)\n",
            "Y_train shape(1070,)\n",
            "Y_test shape(268,)\n"
          ]
        }
      ],
      "source": [
        "X= label_data.drop([\"charges\",\"age\",\"bmi\",\"children\",\"smoker\",\"region\"],axis =1)\n",
        "y= label_data[\"charges\"]\n",
        "X_train, X_test, y_train, y_test = train_test_split(X, y,test_size=0.20,random_state=42)\n",
        "\n",
        "print(f\"X_train shape{X_train.shape}\")\n",
        "print(f\"X_test shape{X_test.shape}\")\n",
        "print(f\"Y_train shape{y_train.shape}\")\n",
        "print(f\"Y_test shape{y_test.shape}\")"
      ]
    },
    {
      "cell_type": "code",
      "execution_count": 223,
      "metadata": {
        "id": "X5ByrXCEp3qD"
      },
      "outputs": [],
      "source": [
        "Lin_reg = LinearRegression()\n",
        "Lin_reg.fit(X_train,y_train)\n",
        "Lin_pred = Lin_reg.predict(X_test)\n",
        "\n",
        "Rand_reg=RandomForestRegressor()\n",
        "Rand_reg.fit(X_train,y_train)\n",
        "Rand_pred = Rand_reg.predict(X_test)"
      ]
    },
    {
      "cell_type": "code",
      "execution_count": 224,
      "metadata": {
        "id": "UKSAgSm6p5mz",
        "colab": {
          "base_uri": "https://localhost:8080/"
        },
        "outputId": "51d14fa1-c1a5-424d-e036-efc71bc06be1"
      },
      "outputs": [
        {
          "output_type": "stream",
          "name": "stdout",
          "text": [
            "MSE for linear regression : 154843202.23394078\n",
            "MSE for Random forest regression : 154823638.99839807\n",
            "------------------------------------------------------------------------------------------\n",
            "MAE for linear regression : 9542.194429668785\n",
            "MAE for Random forest regression : 9524.700159012795\n",
            "------------------------------------------------------------------------------------------\n",
            "RMSE for linear regression : 12443.600854814526\n",
            "RMSE for Random forest regression : 12442.81475384079\n"
          ]
        }
      ],
      "source": [
        "from sklearn.metrics import *\n",
        "#Mean squared error\n",
        "print('MSE for linear regression :', mean_squared_error(y_test, Lin_pred))\n",
        "print('MSE for Random forest regression :', mean_squared_error(y_test, Rand_pred))\n",
        "print(\"------------------------------------------------------------------------------------------\")\n",
        "\n",
        "#Mean absolute error\n",
        "print('MAE for linear regression :', mean_absolute_error(y_test, Lin_pred))\n",
        "print('MAE for Random forest regression :', mean_absolute_error(y_test, Rand_pred))\n",
        "print(\"------------------------------------------------------------------------------------------\")\n",
        "\n",
        "#Root mean squared error\n",
        "print('RMSE for linear regression :', np.sqrt(mean_squared_error(y_test, Lin_pred)))\n",
        "print('RMSE for Random forest regression :', np.sqrt(mean_squared_error(y_test, Rand_pred)))\n"
      ]
    },
    {
      "cell_type": "code",
      "execution_count": 225,
      "metadata": {
        "id": "30Y9i3vTp7tx",
        "colab": {
          "base_uri": "https://localhost:8080/"
        },
        "outputId": "f883e8aa-8a66-4e19-e73b-5bc46c690e52"
      },
      "outputs": [
        {
          "output_type": "stream",
          "name": "stdout",
          "text": [
            "The R2 score for linear regression 0.00261212606335659\n",
            "The R2 score for Random forest regression 0.002738138271989432\n"
          ]
        }
      ],
      "source": [
        "print(f\"The R2 score for linear regression {r2_score(y_test,Lin_pred)}\")\n",
        "print(f\"The R2 score for Random forest regression {r2_score(y_test,Rand_pred)}\")"
      ]
    },
    {
      "cell_type": "code",
      "execution_count": 214,
      "metadata": {
        "id": "dE0mnZIKp9gw",
        "colab": {
          "base_uri": "https://localhost:8080/",
          "height": 279
        },
        "outputId": "c976f79c-ada0-4382-af01-dd6e1e09e52f"
      },
      "outputs": [
        {
          "output_type": "display_data",
          "data": {
            "text/plain": [
              "<Figure size 432x288 with 1 Axes>"
            ],
            "image/png": "[encoded data removed]"
          },
          "metadata": {
            "needs_background": "light"
          }
        }
      ],
      "source": [
        "plt.scatter(y_test,Lin_pred)\n",
        "plt.xlabel('Y test')\n",
        "plt.ylabel('Y pred')\n",
        "plt.show()"
      ]
    },
    {
      "cell_type": "code",
      "execution_count": 215,
      "metadata": {
        "id": "6ku_IJt6p_PV",
        "colab": {
          "base_uri": "https://localhost:8080/",
          "height": 279
        },
        "outputId": "a4282015-055f-4e42-ad0d-f31650b5f6ca"
      },
      "outputs": [
        {
          "output_type": "display_data",
          "data": {
            "text/plain": [
              "<Figure size 432x288 with 1 Axes>"
            ],
            "image/png": "[encoded data removed]"
          },
          "metadata": {
            "needs_background": "light"
          }
        }
      ],
      "source": [
        "plt.scatter(y_test,Rand_pred)\n",
        "plt.xlabel('Y test')\n",
        "plt.ylabel('Y pred')\n",
        "plt.show()"
      ]
    },
    {
      "cell_type": "code",
      "execution_count": 216,
      "metadata": {
        "colab": {
          "base_uri": "https://localhost:8080/",
          "height": 115
        },
        "id": "Euhw3JpHqAyu",
        "outputId": "0e947752-33fe-4ae7-b3f8-cab96d4dd91e"
      },
      "outputs": [
        {
          "name": "stdout",
          "output_type": "stream",
          "text": [
            "sex is 0 for female and 1 for male \n",
            "What is the sex of the patient admitted ? 1\n"
          ]
        },
        {
          "output_type": "execute_result",
          "data": {
            "text/plain": [
              "  sex\n",
              "0   1"
            ],
            "text/html": [
              "\n",
              "  <div id=\"df-11e85ff9-a7fd-4032-8120-bb17b578b525\">\n",
              "    <div class=\"colab-df-container\">\n",
              "      <div>\n",
              "<style scoped>\n",
              "    .dataframe tbody tr th:only-of-type {\n",
              "        vertical-align: middle;\n",
              "    }\n",
              "\n",
              "    .dataframe tbody tr th {\n",
              "        vertical-align: top;\n",
              "    }\n",
              "\n",
              "    .dataframe thead th {\n",
              "        text-align: right;\n",
              "    }\n",
              "</style>\n",
              "<table border=\"1\" class=\"dataframe\">\n",
              "  <thead>\n",
              "    <tr style=\"text-align: right;\">\n",
              "      <th></th>\n",
              "      <th>sex</th>\n",
              "    </tr>\n",
              "  </thead>\n",
              "  <tbody>\n",
              "    <tr>\n",
              "      <th>0</th>\n",
              "      <td>1</td>\n",
              "    </tr>\n",
              "  </tbody>\n",
              "</table>\n",
              "</div>\n",
              "      <button class=\"colab-df-convert\" onclick=\"convertToInteractive('df-11e85ff9-a7fd-4032-8120-bb17b578b525')\"\n",
              "              title=\"Convert this dataframe to an interactive table.\"\n",
              "              style=\"display:none;\">\n",
              "        \n",
              "  <svg xmlns=\"http://www.w3.org/2000/svg\" height=\"24px\"viewBox=\"0 0 24 24\"\n",
              "       width=\"24px\">\n",
              "    <path d=\"M0 0h24v24H0V0z\" fill=\"none\"/>\n",
              "    <path d=\"M18.56 5.44l.94 2.06.94-2.06 2.06-.94-2.06-.94-.94-2.06-.94 2.06-2.06.94zm-11 1L8.5 8.5l.94-2.06 2.06-.94-2.06-.94L8.5 2.5l-.94 2.06-2.06.94zm10 10l.94 2.06.94-2.06 2.06-.94-2.06-.94-.94-2.06-.94 2.06-2.06.94z\"/><path d=\"M17.41 7.96l-1.37-1.37c-.4-.4-.92-.59-1.43-.59-.52 0-1.04.2-1.43.59L10.3 9.45l-7.72 7.72c-.78.78-.78 2.05 0 2.83L4 21.41c.39.39.9.59 1.41.59.51 0 1.02-.2 1.41-.59l7.78-7.78 2.81-2.81c.8-.78.8-2.07 0-2.86zM5.41 20L4 18.59l7.72-7.72 1.47 1.35L5.41 20z\"/>\n",
              "  </svg>\n",
              "      </button>\n",
              "      \n",
              "  <style>\n",
              "    .colab-df-container {\n",
              "      display:flex;\n",
              "      flex-wrap:wrap;\n",
              "      gap: 12px;\n",
              "    }\n",
              "\n",
              "    .colab-df-convert {\n",
              "      background-color: #E8F0FE;\n",
              "      border: none;\n",
              "      border-radius: 50%;\n",
              "      cursor: pointer;\n",
              "      display: none;\n",
              "      fill: #1967D2;\n",
              "      height: 32px;\n",
              "      padding: 0 0 0 0;\n",
              "      width: 32px;\n",
              "    }\n",
              "\n",
              "    .colab-df-convert:hover {\n",
              "      background-color: #E2EBFA;\n",
              "      box-shadow: 0px 1px 2px rgba(60, 64, 67, 0.3), 0px 1px 3px 1px rgba(60, 64, 67, 0.15);\n",
              "      fill: #174EA6;\n",
              "    }\n",
              "\n",
              "    [theme=dark] .colab-df-convert {\n",
              "      background-color: #3B4455;\n",
              "      fill: #D2E3FC;\n",
              "    }\n",
              "\n",
              "    [theme=dark] .colab-df-convert:hover {\n",
              "      background-color: #434B5C;\n",
              "      box-shadow: 0px 1px 3px 1px rgba(0, 0, 0, 0.15);\n",
              "      filter: drop-shadow(0px 1px 2px rgba(0, 0, 0, 0.3));\n",
              "      fill: #FFFFFF;\n",
              "    }\n",
              "  </style>\n",
              "\n",
              "      <script>\n",
              "        const buttonEl =\n",
              "          document.querySelector('#df-11e85ff9-a7fd-4032-8120-bb17b578b525 button.colab-df-convert');\n",
              "        buttonEl.style.display =\n",
              "          google.colab.kernel.accessAllowed ? 'block' : 'none';\n",
              "\n",
              "        async function convertToInteractive(key) {\n",
              "          const element = document.querySelector('#df-11e85ff9-a7fd-4032-8120-bb17b578b525');\n",
              "          const dataTable =\n",
              "            await google.colab.kernel.invokeFunction('convertToInteractive',\n",
              "                                                     [key], {});\n",
              "          if (!dataTable) return;\n",
              "\n",
              "          const docLinkHtml = 'Like what you see? Visit the ' +\n",
              "            '<a target=\"_blank\" href=https://colab.research.google.com/notebooks/data_table.ipynb>data table notebook</a>'\n",
              "            + ' to learn more about interactive tables.';\n",
              "          element.innerHTML = '';\n",
              "          dataTable['output_type'] = 'display_data';\n",
              "          await google.colab.output.renderOutput(dataTable, element);\n",
              "          const docLink = document.createElement('div');\n",
              "          docLink.innerHTML = docLinkHtml;\n",
              "          element.appendChild(docLink);\n",
              "        }\n",
              "      </script>\n",
              "    </div>\n",
              "  </div>\n",
              "  "
            ]
          },
          "metadata": {},
          "execution_count": 216
        }
      ],
      "source": [
        "print(\"sex is 0 for female and 1 for male \") \n",
        "a=input(\"What is the sex of the patient admitted ? \")\n",
        "data = {'sex':a}\n",
        "index = [0]\n",
        "cust_df = pd.DataFrame(data, index)\n",
        "cust_df"
      ]
    },
    {
      "cell_type": "code",
      "execution_count": 217,
      "metadata": {
        "colab": {
          "base_uri": "https://localhost:8080/"
        },
        "id": "WofxZHUTqCVW",
        "outputId": "d3a5be07-a5e6-4622-fda6-8084fed1f2a3"
      },
      "outputs": [
        {
          "output_type": "stream",
          "name": "stdout",
          "text": [
            "The medical insurance cost of the new customer under Linear regression is:  [14012.12273617]\n",
            "The medical insurance cost of the new customer under Random forest regression is:  [13974.38802711]\n"
          ]
        }
      ],
      "source": [
        "costpredLin = Lin_reg.predict(cust_df)\n",
        "costpredRand = Rand_reg.predict(cust_df)\n",
        "\n",
        "print(\"The medical insurance cost of the new customer under Linear regression is: \", costpredLin)\n",
        "print(\"The medical insurance cost of the new customer under Random forest regression is: \", costpredRand)"
      ]
    },
    {
      "cell_type": "markdown",
      "metadata": {
        "id": "Lz6EDK5Cqevv"
      },
      "source": [
        "#**Prediction of medical insurance using attribute 'BMI'**"
      ]
    },
    {
      "cell_type": "code",
      "execution_count": 226,
      "metadata": {
        "colab": {
          "base_uri": "https://localhost:8080/"
        },
        "id": "kCdP0gjhqjK6",
        "outputId": "6a38b876-f2eb-4a01-987d-fd4e1d64f22b"
      },
      "outputs": [
        {
          "output_type": "stream",
          "name": "stdout",
          "text": [
            "X_train shape(1070, 1)\n",
            "X_test shape(268, 1)\n",
            "Y_train shape(1070,)\n",
            "Y_test shape(268,)\n"
          ]
        }
      ],
      "source": [
        "X= label_data.drop([\"charges\",\"age\",\"sex\",\"children\",\"smoker\",\"region\"],axis =1)\n",
        "y= label_data[\"charges\"]\n",
        "X_train, X_test, y_train, y_test = train_test_split(X, y,test_size=0.20,random_state=42)\n",
        "\n",
        "print(f\"X_train shape{X_train.shape}\")\n",
        "print(f\"X_test shape{X_test.shape}\")\n",
        "print(f\"Y_train shape{y_train.shape}\")\n",
        "print(f\"Y_test shape{y_test.shape}\")"
      ]
    },
    {
      "cell_type": "code",
      "execution_count": 227,
      "metadata": {
        "id": "q9OrT_ivqwQs"
      },
      "outputs": [],
      "source": [
        "Lin_reg = LinearRegression()\n",
        "Lin_reg.fit(X_train,y_train)\n",
        "Lin_pred = Lin_reg.predict(X_test)\n",
        "\n",
        "Rand_reg=RandomForestRegressor()\n",
        "Rand_reg.fit(X_train,y_train)\n",
        "Rand_pred = Rand_reg.predict(X_test)"
      ]
    },
    {
      "cell_type": "code",
      "execution_count": 228,
      "metadata": {
        "colab": {
          "base_uri": "https://localhost:8080/"
        },
        "id": "2Am569-gqx24",
        "outputId": "c11e0994-fadf-423c-a9b9-279f8f90ab58"
      },
      "outputs": [
        {
          "output_type": "stream",
          "name": "stdout",
          "text": [
            "MSE for linear regression : 149085057.03839505\n",
            "MSE for Random forest regression : 212204410.13893858\n",
            "------------------------------------------------------------------------------------------\n",
            "MAE for linear regression : 9784.65259627133\n",
            "MAE for Random forest regression : 10933.977568522287\n",
            "------------------------------------------------------------------------------------------\n",
            "RMSE for linear regression : 12210.039190698571\n",
            "RMSE for Random forest regression : 14567.237560324833\n"
          ]
        }
      ],
      "source": [
        "from sklearn.metrics import *\n",
        "#Mean squared error\n",
        "print('MSE for linear regression :', mean_squared_error(y_test, Lin_pred))\n",
        "print('MSE for Random forest regression :', mean_squared_error(y_test, Rand_pred))\n",
        "print(\"------------------------------------------------------------------------------------------\")\n",
        "\n",
        "#Mean absolute error\n",
        "print('MAE for linear regression :', mean_absolute_error(y_test, Lin_pred))\n",
        "print('MAE for Random forest regression :', mean_absolute_error(y_test, Rand_pred))\n",
        "print(\"------------------------------------------------------------------------------------------\")\n",
        "\n",
        "#Root mean squared error\n",
        "print('RMSE for linear regression :', np.sqrt(mean_squared_error(y_test, Lin_pred)))\n",
        "print('RMSE for Random forest regression :', np.sqrt(mean_squared_error(y_test, Rand_pred)))\n"
      ]
    },
    {
      "cell_type": "code",
      "execution_count": 229,
      "metadata": {
        "colab": {
          "base_uri": "https://localhost:8080/"
        },
        "id": "9YotTAQvqzZP",
        "outputId": "67a1c9d1-d171-470e-fd3e-2f4ead1ab34c"
      },
      "outputs": [
        {
          "output_type": "stream",
          "name": "stdout",
          "text": [
            "The R2 score for Linear regression is  0.03970193117941878\n",
            "The R2 score for Random forest regression is -0.36686727227902094\n"
          ]
        }
      ],
      "source": [
        "print(f\"The R2 score for Linear regression is  {r2_score(y_test,Lin_pred)}\")\n",
        "print(f\"The R2 score for Random forest regression is {r2_score(y_test,Rand_pred)}\")"
      ]
    },
    {
      "cell_type": "code",
      "execution_count": 230,
      "metadata": {
        "colab": {
          "base_uri": "https://localhost:8080/",
          "height": 279
        },
        "id": "YdRYZQ2Zq0wL",
        "outputId": "810fa906-0a42-41f7-f2ae-feb6137240fe"
      },
      "outputs": [
        {
          "output_type": "display_data",
          "data": {
            "text/plain": [
              "<Figure size 432x288 with 1 Axes>"
            ],
            "image/png": "[encoded data removed]"
          },
          "metadata": {
            "needs_background": "light"
          }
        }
      ],
      "source": [
        "plt.scatter(y_test,Lin_pred)\n",
        "plt.xlabel('Y test')\n",
        "plt.ylabel('Y pred')\n",
        "plt.show()"
      ]
    },
    {
      "cell_type": "code",
      "execution_count": 231,
      "metadata": {
        "colab": {
          "base_uri": "https://localhost:8080/",
          "height": 279
        },
        "id": "e1NAsL6kq2VQ",
        "outputId": "cb009443-df76-4a52-9dc5-099130958bed"
      },
      "outputs": [
        {
          "output_type": "display_data",
          "data": {
            "text/plain": [
              "<Figure size 432x288 with 1 Axes>"
            ],
            "image/png": "[encoded data removed]"
          },
          "metadata": {
            "needs_background": "light"
          }
        }
      ],
      "source": [
        "plt.scatter(y_test,Rand_pred)\n",
        "plt.xlabel('Y test')\n",
        "plt.ylabel('Y pred')\n",
        "plt.show()"
      ]
    },
    {
      "cell_type": "code",
      "execution_count": 232,
      "metadata": {
        "id": "c_Yow49Kq3-T",
        "colab": {
          "base_uri": "https://localhost:8080/",
          "height": 98
        },
        "outputId": "ff8980cf-5426-4083-ff9a-e09f62821e70"
      },
      "outputs": [
        {
          "name": "stdout",
          "output_type": "stream",
          "text": [
            "Bmi of the patient admitted ?23\n"
          ]
        },
        {
          "output_type": "execute_result",
          "data": {
            "text/plain": [
              "  bmi\n",
              "0  23"
            ],
            "text/html": [
              "\n",
              "  <div id=\"df-43dce3c2-c5cf-42e8-b318-d52da3ec634b\">\n",
              "    <div class=\"colab-df-container\">\n",
              "      <div>\n",
              "<style scoped>\n",
              "    .dataframe tbody tr th:only-of-type {\n",
              "        vertical-align: middle;\n",
              "    }\n",
              "\n",
              "    .dataframe tbody tr th {\n",
              "        vertical-align: top;\n",
              "    }\n",
              "\n",
              "    .dataframe thead th {\n",
              "        text-align: right;\n",
              "    }\n",
              "</style>\n",
              "<table border=\"1\" class=\"dataframe\">\n",
              "  <thead>\n",
              "    <tr style=\"text-align: right;\">\n",
              "      <th></th>\n",
              "      <th>bmi</th>\n",
              "    </tr>\n",
              "  </thead>\n",
              "  <tbody>\n",
              "    <tr>\n",
              "      <th>0</th>\n",
              "      <td>23</td>\n",
              "    </tr>\n",
              "  </tbody>\n",
              "</table>\n",
              "</div>\n",
              "      <button class=\"colab-df-convert\" onclick=\"convertToInteractive('df-43dce3c2-c5cf-42e8-b318-d52da3ec634b')\"\n",
              "              title=\"Convert this dataframe to an interactive table.\"\n",
              "              style=\"display:none;\">\n",
              "        \n",
              "  <svg xmlns=\"http://www.w3.org/2000/svg\" height=\"24px\"viewBox=\"0 0 24 24\"\n",
              "       width=\"24px\">\n",
              "    <path d=\"M0 0h24v24H0V0z\" fill=\"none\"/>\n",
              "    <path d=\"M18.56 5.44l.94 2.06.94-2.06 2.06-.94-2.06-.94-.94-2.06-.94 2.06-2.06.94zm-11 1L8.5 8.5l.94-2.06 2.06-.94-2.06-.94L8.5 2.5l-.94 2.06-2.06.94zm10 10l.94 2.06.94-2.06 2.06-.94-2.06-.94-.94-2.06-.94 2.06-2.06.94z\"/><path d=\"M17.41 7.96l-1.37-1.37c-.4-.4-.92-.59-1.43-.59-.52 0-1.04.2-1.43.59L10.3 9.45l-7.72 7.72c-.78.78-.78 2.05 0 2.83L4 21.41c.39.39.9.59 1.41.59.51 0 1.02-.2 1.41-.59l7.78-7.78 2.81-2.81c.8-.78.8-2.07 0-2.86zM5.41 20L4 18.59l7.72-7.72 1.47 1.35L5.41 20z\"/>\n",
              "  </svg>\n",
              "      </button>\n",
              "      \n",
              "  <style>\n",
              "    .colab-df-container {\n",
              "      display:flex;\n",
              "      flex-wrap:wrap;\n",
              "      gap: 12px;\n",
              "    }\n",
              "\n",
              "    .colab-df-convert {\n",
              "      background-color: #E8F0FE;\n",
              "      border: none;\n",
              "      border-radius: 50%;\n",
              "      cursor: pointer;\n",
              "      display: none;\n",
              "      fill: #1967D2;\n",
              "      height: 32px;\n",
              "      padding: 0 0 0 0;\n",
              "      width: 32px;\n",
              "    }\n",
              "\n",
              "    .colab-df-convert:hover {\n",
              "      background-color: #E2EBFA;\n",
              "      box-shadow: 0px 1px 2px rgba(60, 64, 67, 0.3), 0px 1px 3px 1px rgba(60, 64, 67, 0.15);\n",
              "      fill: #174EA6;\n",
              "    }\n",
              "\n",
              "    [theme=dark] .colab-df-convert {\n",
              "      background-color: #3B4455;\n",
              "      fill: #D2E3FC;\n",
              "    }\n",
              "\n",
              "    [theme=dark] .colab-df-convert:hover {\n",
              "      background-color: #434B5C;\n",
              "      box-shadow: 0px 1px 3px 1px rgba(0, 0, 0, 0.15);\n",
              "      filter: drop-shadow(0px 1px 2px rgba(0, 0, 0, 0.3));\n",
              "      fill: #FFFFFF;\n",
              "    }\n",
              "  </style>\n",
              "\n",
              "      <script>\n",
              "        const buttonEl =\n",
              "          document.querySelector('#df-43dce3c2-c5cf-42e8-b318-d52da3ec634b button.colab-df-convert');\n",
              "        buttonEl.style.display =\n",
              "          google.colab.kernel.accessAllowed ? 'block' : 'none';\n",
              "\n",
              "        async function convertToInteractive(key) {\n",
              "          const element = document.querySelector('#df-43dce3c2-c5cf-42e8-b318-d52da3ec634b');\n",
              "          const dataTable =\n",
              "            await google.colab.kernel.invokeFunction('convertToInteractive',\n",
              "                                                     [key], {});\n",
              "          if (!dataTable) return;\n",
              "\n",
              "          const docLinkHtml = 'Like what you see? Visit the ' +\n",
              "            '<a target=\"_blank\" href=https://colab.research.google.com/notebooks/data_table.ipynb>data table notebook</a>'\n",
              "            + ' to learn more about interactive tables.';\n",
              "          element.innerHTML = '';\n",
              "          dataTable['output_type'] = 'display_data';\n",
              "          await google.colab.output.renderOutput(dataTable, element);\n",
              "          const docLink = document.createElement('div');\n",
              "          docLink.innerHTML = docLinkHtml;\n",
              "          element.appendChild(docLink);\n",
              "        }\n",
              "      </script>\n",
              "    </div>\n",
              "  </div>\n",
              "  "
            ]
          },
          "metadata": {},
          "execution_count": 232
        }
      ],
      "source": [
        "a=input(\"Bmi of the patient admitted ?\")\n",
        "data = {'bmi':a}\n",
        "index = [0]\n",
        "cust_df = pd.DataFrame(data, index)\n",
        "cust_df"
      ]
    },
    {
      "cell_type": "code",
      "execution_count": 234,
      "metadata": {
        "id": "cWJT8EIXq5LA",
        "colab": {
          "base_uri": "https://localhost:8080/"
        },
        "outputId": "1e63bfff-e966-4451-b1fa-cbd2b65dcce0"
      },
      "outputs": [
        {
          "output_type": "stream",
          "name": "stdout",
          "text": [
            "The medical insurance cost of the new customer under Linear regression is:  [10379.11358811]\n",
            "The medical insurance cost of the new customer under Random forest regression is:  [11926.0376244]\n"
          ]
        }
      ],
      "source": [
        "costpredLin = Lin_reg.predict(cust_df)\n",
        "costpredRand = Rand_reg.predict(cust_df)\n",
        "\n",
        "print(\"The medical insurance cost of the new customer under Linear regression is: \", costpredLin)\n",
        "print(\"The medical insurance cost of the new customer under Random forest regression is: \", costpredRand)"
      ]
    },
    {
      "cell_type": "markdown",
      "metadata": {
        "id": "T-eVRqvYrOVc"
      },
      "source": [
        "#**Prediction of medical insurance using attribute 'CHILDREN'**"
      ]
    },
    {
      "cell_type": "code",
      "execution_count": 235,
      "metadata": {
        "id": "cb1BudTsrkPG",
        "colab": {
          "base_uri": "https://localhost:8080/"
        },
        "outputId": "cc2eb8b9-7feb-4dfa-b6da-82369d5ed362"
      },
      "outputs": [
        {
          "output_type": "stream",
          "name": "stdout",
          "text": [
            "X_train shape(1070, 1)\n",
            "X_test shape(268, 1)\n",
            "Y_train shape(1070,)\n",
            "Y_test shape(268,)\n"
          ]
        }
      ],
      "source": [
        "X= label_data.drop([\"charges\",\"age\",\"sex\",\"bmi\",\"smoker\",\"region\"],axis =1)\n",
        "y= label_data[\"charges\"]\n",
        "X_train, X_test, y_train, y_test = train_test_split(X, y,test_size=0.20,random_state=42)\n",
        "\n",
        "print(f\"X_train shape{X_train.shape}\")\n",
        "print(f\"X_test shape{X_test.shape}\")\n",
        "print(f\"Y_train shape{y_train.shape}\")\n",
        "print(f\"Y_test shape{y_test.shape}\")"
      ]
    },
    {
      "cell_type": "code",
      "execution_count": 236,
      "metadata": {
        "id": "qN0DPCo4r4_H"
      },
      "outputs": [],
      "source": [
        "Lin_reg = LinearRegression()\n",
        "Lin_reg.fit(X_train,y_train)\n",
        "Lin_pred = Lin_reg.predict(X_test)\n",
        "\n",
        "Rand_reg=RandomForestRegressor()\n",
        "Rand_reg.fit(X_train,y_train)\n",
        "Rand_pred = Rand_reg.predict(X_test)"
      ]
    },
    {
      "cell_type": "code",
      "execution_count": 237,
      "metadata": {
        "id": "wBcFHkTYr8Tu",
        "colab": {
          "base_uri": "https://localhost:8080/"
        },
        "outputId": "20b1f097-a18c-45a2-b9f9-a262435ea07b"
      },
      "outputs": [
        {
          "output_type": "stream",
          "name": "stdout",
          "text": [
            "MSE for linear regression : 154985513.03144488\n",
            "MSE for Random forest regression : 154271488.3156367\n",
            "------------------------------------------------------------------------------------------\n",
            "MAE for linear regression : 9570.371167068748\n",
            "MAE for Random forest regression : 9574.402731496497\n",
            "------------------------------------------------------------------------------------------\n",
            "RMSE for linear regression : 12449.317773735429\n",
            "RMSE for Random forest regression : 12420.607405261495\n"
          ]
        }
      ],
      "source": [
        "from sklearn.metrics import *\n",
        "#Mean squared error\n",
        "print('MSE for linear regression :', mean_squared_error(y_test, Lin_pred))\n",
        "print('MSE for Random forest regression :', mean_squared_error(y_test, Rand_pred))\n",
        "print(\"------------------------------------------------------------------------------------------\")\n",
        "\n",
        "#Mean absolute error\n",
        "print('MAE for linear regression :', mean_absolute_error(y_test, Lin_pred))\n",
        "print('MAE for Random forest regression :', mean_absolute_error(y_test, Rand_pred))\n",
        "print(\"------------------------------------------------------------------------------------------\")\n",
        "\n",
        "#Root mean squared error\n",
        "print('RMSE for linear regression :', np.sqrt(mean_squared_error(y_test, Lin_pred)))\n",
        "print('RMSE for Random forest regression :', np.sqrt(mean_squared_error(y_test, Rand_pred)))\n"
      ]
    },
    {
      "cell_type": "code",
      "execution_count": 238,
      "metadata": {
        "id": "xKUa_BIjsAXX",
        "colab": {
          "base_uri": "https://localhost:8080/"
        },
        "outputId": "23f345a6-80f3-402d-a5d7-3824c217caa4"
      },
      "outputs": [
        {
          "output_type": "stream",
          "name": "stdout",
          "text": [
            "The R2 score for Linear regression is  0.0016954628730256882\n",
            "The R2 score for Random forest regression is 0.00629469346864564\n"
          ]
        }
      ],
      "source": [
        "print(f\"The R2 score for Linear regression is  {r2_score(y_test,Lin_pred)}\")\n",
        "print(f\"The R2 score for Random forest regression is {r2_score(y_test,Rand_pred)}\")"
      ]
    },
    {
      "cell_type": "code",
      "execution_count": 239,
      "metadata": {
        "id": "g9_9FD2HsEGB",
        "colab": {
          "base_uri": "https://localhost:8080/",
          "height": 279
        },
        "outputId": "147146e4-b86a-4898-895f-d942ee008f69"
      },
      "outputs": [
        {
          "output_type": "display_data",
          "data": {
            "text/plain": [
              "<Figure size 432x288 with 1 Axes>"
            ],
            "image/png": "[encoded data removed]"
          },
          "metadata": {
            "needs_background": "light"
          }
        }
      ],
      "source": [
        "plt.scatter(y_test,Lin_pred)\n",
        "plt.xlabel('Y test')\n",
        "plt.ylabel('Y pred')\n",
        "plt.show()"
      ]
    },
    {
      "cell_type": "code",
      "execution_count": 240,
      "metadata": {
        "id": "eHKWG82CsHv3",
        "colab": {
          "base_uri": "https://localhost:8080/",
          "height": 279
        },
        "outputId": "236fb0bc-4563-464b-ed83-95235b18de27"
      },
      "outputs": [
        {
          "output_type": "display_data",
          "data": {
            "text/plain": [
              "<Figure size 432x288 with 1 Axes>"
            ],
            "image/png": "[encoded data removed]"
          },
          "metadata": {
            "needs_background": "light"
          }
        }
      ],
      "source": [
        "plt.scatter(y_test,Rand_pred)\n",
        "plt.xlabel('Y test')\n",
        "plt.ylabel('Y pred')\n",
        "plt.show()"
      ]
    },
    {
      "cell_type": "code",
      "execution_count": 241,
      "metadata": {
        "id": "hBg-2MZ8sMGe",
        "colab": {
          "base_uri": "https://localhost:8080/",
          "height": 98
        },
        "outputId": "72028394-3b12-4506-c61a-8fbe4f879184"
      },
      "outputs": [
        {
          "name": "stdout",
          "output_type": "stream",
          "text": [
            "number of children for the patient admitted ?2\n"
          ]
        },
        {
          "output_type": "execute_result",
          "data": {
            "text/plain": [
              "  children\n",
              "0        2"
            ],
            "text/html": [
              "\n",
              "  <div id=\"df-951dd2f8-7108-4e78-84e7-3d3430f105df\">\n",
              "    <div class=\"colab-df-container\">\n",
              "      <div>\n",
              "<style scoped>\n",
              "    .dataframe tbody tr th:only-of-type {\n",
              "        vertical-align: middle;\n",
              "    }\n",
              "\n",
              "    .dataframe tbody tr th {\n",
              "        vertical-align: top;\n",
              "    }\n",
              "\n",
              "    .dataframe thead th {\n",
              "        text-align: right;\n",
              "    }\n",
              "</style>\n",
              "<table border=\"1\" class=\"dataframe\">\n",
              "  <thead>\n",
              "    <tr style=\"text-align: right;\">\n",
              "      <th></th>\n",
              "      <th>children</th>\n",
              "    </tr>\n",
              "  </thead>\n",
              "  <tbody>\n",
              "    <tr>\n",
              "      <th>0</th>\n",
              "      <td>2</td>\n",
              "    </tr>\n",
              "  </tbody>\n",
              "</table>\n",
              "</div>\n",
              "      <button class=\"colab-df-convert\" onclick=\"convertToInteractive('df-951dd2f8-7108-4e78-84e7-3d3430f105df')\"\n",
              "              title=\"Convert this dataframe to an interactive table.\"\n",
              "              style=\"display:none;\">\n",
              "        \n",
              "  <svg xmlns=\"http://www.w3.org/2000/svg\" height=\"24px\"viewBox=\"0 0 24 24\"\n",
              "       width=\"24px\">\n",
              "    <path d=\"M0 0h24v24H0V0z\" fill=\"none\"/>\n",
              "    <path d=\"M18.56 5.44l.94 2.06.94-2.06 2.06-.94-2.06-.94-.94-2.06-.94 2.06-2.06.94zm-11 1L8.5 8.5l.94-2.06 2.06-.94-2.06-.94L8.5 2.5l-.94 2.06-2.06.94zm10 10l.94 2.06.94-2.06 2.06-.94-2.06-.94-.94-2.06-.94 2.06-2.06.94z\"/><path d=\"M17.41 7.96l-1.37-1.37c-.4-.4-.92-.59-1.43-.59-.52 0-1.04.2-1.43.59L10.3 9.45l-7.72 7.72c-.78.78-.78 2.05 0 2.83L4 21.41c.39.39.9.59 1.41.59.51 0 1.02-.2 1.41-.59l7.78-7.78 2.81-2.81c.8-.78.8-2.07 0-2.86zM5.41 20L4 18.59l7.72-7.72 1.47 1.35L5.41 20z\"/>\n",
              "  </svg>\n",
              "      </button>\n",
              "      \n",
              "  <style>\n",
              "    .colab-df-container {\n",
              "      display:flex;\n",
              "      flex-wrap:wrap;\n",
              "      gap: 12px;\n",
              "    }\n",
              "\n",
              "    .colab-df-convert {\n",
              "      background-color: #E8F0FE;\n",
              "      border: none;\n",
              "      border-radius: 50%;\n",
              "      cursor: pointer;\n",
              "      display: none;\n",
              "      fill: #1967D2;\n",
              "      height: 32px;\n",
              "      padding: 0 0 0 0;\n",
              "      width: 32px;\n",
              "    }\n",
              "\n",
              "    .colab-df-convert:hover {\n",
              "      background-color: #E2EBFA;\n",
              "      box-shadow: 0px 1px 2px rgba(60, 64, 67, 0.3), 0px 1px 3px 1px rgba(60, 64, 67, 0.15);\n",
              "      fill: #174EA6;\n",
              "    }\n",
              "\n",
              "    [theme=dark] .colab-df-convert {\n",
              "      background-color: #3B4455;\n",
              "      fill: #D2E3FC;\n",
              "    }\n",
              "\n",
              "    [theme=dark] .colab-df-convert:hover {\n",
              "      background-color: #434B5C;\n",
              "      box-shadow: 0px 1px 3px 1px rgba(0, 0, 0, 0.15);\n",
              "      filter: drop-shadow(0px 1px 2px rgba(0, 0, 0, 0.3));\n",
              "      fill: #FFFFFF;\n",
              "    }\n",
              "  </style>\n",
              "\n",
              "      <script>\n",
              "        const buttonEl =\n",
              "          document.querySelector('#df-951dd2f8-7108-4e78-84e7-3d3430f105df button.colab-df-convert');\n",
              "        buttonEl.style.display =\n",
              "          google.colab.kernel.accessAllowed ? 'block' : 'none';\n",
              "\n",
              "        async function convertToInteractive(key) {\n",
              "          const element = document.querySelector('#df-951dd2f8-7108-4e78-84e7-3d3430f105df');\n",
              "          const dataTable =\n",
              "            await google.colab.kernel.invokeFunction('convertToInteractive',\n",
              "                                                     [key], {});\n",
              "          if (!dataTable) return;\n",
              "\n",
              "          const docLinkHtml = 'Like what you see? Visit the ' +\n",
              "            '<a target=\"_blank\" href=https://colab.research.google.com/notebooks/data_table.ipynb>data table notebook</a>'\n",
              "            + ' to learn more about interactive tables.';\n",
              "          element.innerHTML = '';\n",
              "          dataTable['output_type'] = 'display_data';\n",
              "          await google.colab.output.renderOutput(dataTable, element);\n",
              "          const docLink = document.createElement('div');\n",
              "          docLink.innerHTML = docLinkHtml;\n",
              "          element.appendChild(docLink);\n",
              "        }\n",
              "      </script>\n",
              "    </div>\n",
              "  </div>\n",
              "  "
            ]
          },
          "metadata": {},
          "execution_count": 241
        }
      ],
      "source": [
        "a=input(\"number of children for the patient admitted ?\")\n",
        "data = {'children':a}\n",
        "index = [0]\n",
        "cust_df = pd.DataFrame(data, index)\n",
        "cust_df"
      ]
    },
    {
      "cell_type": "code",
      "execution_count": 242,
      "metadata": {
        "id": "8eXDU1ZDsP9G",
        "colab": {
          "base_uri": "https://localhost:8080/"
        },
        "outputId": "1ab7ce85-598c-4010-c303-2e306ffc717d"
      },
      "outputs": [
        {
          "output_type": "stream",
          "name": "stdout",
          "text": [
            "The medical insurance cost of the new customer under Linear regression is:  [13980.27603078]\n",
            "The medical insurance cost of the new customer under Random forest regression is:  [15314.55834884]\n"
          ]
        }
      ],
      "source": [
        "costpredLin = Lin_reg.predict(cust_df)\n",
        "costpredRand = Rand_reg.predict(cust_df)\n",
        "\n",
        "print(\"The medical insurance cost of the new customer under Linear regression is: \", costpredLin)\n",
        "print(\"The medical insurance cost of the new customer under Random forest regression is: \", costpredRand)"
      ]
    },
    {
      "cell_type": "markdown",
      "metadata": {
        "id": "qfXNBNhDrUnA"
      },
      "source": [
        "#**Prediction of medical insurance using attribute 'SMOKER'**"
      ]
    },
    {
      "cell_type": "code",
      "execution_count": 243,
      "metadata": {
        "id": "Grxw7AH7rpNJ",
        "colab": {
          "base_uri": "https://localhost:8080/"
        },
        "outputId": "96058b7c-50a2-4128-a644-30badd4c99b1"
      },
      "outputs": [
        {
          "output_type": "stream",
          "name": "stdout",
          "text": [
            "X_train shape(1070, 1)\n",
            "X_test shape(268, 1)\n",
            "Y_train shape(1070,)\n",
            "Y_test shape(268,)\n"
          ]
        }
      ],
      "source": [
        "X= label_data.drop([\"charges\",\"age\",\"sex\",\"children\",\"bmi\",\"region\"],axis =1)\n",
        "y= label_data[\"charges\"]\n",
        "X_train, X_test, y_train, y_test = train_test_split(X, y,test_size=0.20,random_state=42)\n",
        "\n",
        "print(f\"X_train shape{X_train.shape}\")\n",
        "print(f\"X_test shape{X_test.shape}\")\n",
        "print(f\"Y_train shape{y_train.shape}\")\n",
        "print(f\"Y_test shape{y_test.shape}\")"
      ]
    },
    {
      "cell_type": "code",
      "execution_count": 244,
      "metadata": {
        "id": "uBiR-2CGr5xo"
      },
      "outputs": [],
      "source": [
        "Lin_reg = LinearRegression()\n",
        "Lin_reg.fit(X_train,y_train)\n",
        "Lin_pred = Lin_reg.predict(X_test)\n",
        "\n",
        "Rand_reg=RandomForestRegressor()\n",
        "Rand_reg.fit(X_train,y_train)\n",
        "Rand_pred = Rand_reg.predict(X_test)"
      ]
    },
    {
      "cell_type": "code",
      "execution_count": 245,
      "metadata": {
        "id": "vspQc6dzr9lS",
        "colab": {
          "base_uri": "https://localhost:8080/"
        },
        "outputId": "8a711700-f00d-4ffd-bf2f-da711671f259"
      },
      "outputs": [
        {
          "output_type": "stream",
          "name": "stdout",
          "text": [
            "MSE for linear regression : 52745964.72752626\n",
            "MSE for Random forest regression : 52804721.70219318\n",
            "------------------------------------------------------------------------------------------\n",
            "MAE for linear regression : 5625.810656140094\n",
            "MAE for Random forest regression : 5628.285474624678\n",
            "------------------------------------------------------------------------------------------\n",
            "RMSE for linear regression : 7262.641718240427\n",
            "RMSE for Random forest regression : 7266.685744009656\n"
          ]
        }
      ],
      "source": [
        "from sklearn.metrics import *\n",
        "#Mean squared error\n",
        "print('MSE for linear regression :', mean_squared_error(y_test, Lin_pred))\n",
        "print('MSE for Random forest regression :', mean_squared_error(y_test, Rand_pred))\n",
        "print(\"------------------------------------------------------------------------------------------\")\n",
        "\n",
        "#Mean absolute error\n",
        "print('MAE for linear regression :', mean_absolute_error(y_test, Lin_pred))\n",
        "print('MAE for Random forest regression :', mean_absolute_error(y_test, Rand_pred))\n",
        "print(\"------------------------------------------------------------------------------------------\")\n",
        "\n",
        "#Root mean squared error\n",
        "print('RMSE for linear regression :', np.sqrt(mean_squared_error(y_test, Lin_pred)))\n",
        "print('RMSE for Random forest regression :', np.sqrt(mean_squared_error(y_test, Rand_pred)))\n"
      ]
    },
    {
      "cell_type": "code",
      "execution_count": 246,
      "metadata": {
        "id": "--VQxUBWsBE_",
        "colab": {
          "base_uri": "https://localhost:8080/"
        },
        "outputId": "fdaefca7-0268-4fd2-fc8f-e82c56c6240f"
      },
      "outputs": [
        {
          "output_type": "stream",
          "name": "stdout",
          "text": [
            "The R2 score for Linear regression is  0.6602486589056528\n",
            "The R2 score for Random forest regression is 0.6598701889877197\n"
          ]
        }
      ],
      "source": [
        "print(f\"The R2 score for Linear regression is  {r2_score(y_test,Lin_pred)}\")\n",
        "print(f\"The R2 score for Random forest regression is {r2_score(y_test,Rand_pred)}\")"
      ]
    },
    {
      "cell_type": "code",
      "execution_count": 247,
      "metadata": {
        "id": "XzG6NGZ-sEyA",
        "colab": {
          "base_uri": "https://localhost:8080/",
          "height": 279
        },
        "outputId": "06a5af37-c79a-497d-c888-2482187fc358"
      },
      "outputs": [
        {
          "output_type": "display_data",
          "data": {
            "text/plain": [
              "<Figure size 432x288 with 1 Axes>"
            ],
            "image/png": "[encoded data removed]"
          },
          "metadata": {
            "needs_background": "light"
          }
        }
      ],
      "source": [
        "plt.scatter(y_test,Lin_pred)\n",
        "plt.xlabel('Y test')\n",
        "plt.ylabel('Y pred')\n",
        "plt.show()"
      ]
    },
    {
      "cell_type": "code",
      "execution_count": 248,
      "metadata": {
        "id": "Jgnf0OBosInl",
        "colab": {
          "base_uri": "https://localhost:8080/",
          "height": 279
        },
        "outputId": "f6960252-e6eb-49c8-db18-3ea598112389"
      },
      "outputs": [
        {
          "output_type": "display_data",
          "data": {
            "text/plain": [
              "<Figure size 432x288 with 1 Axes>"
            ],
            "image/png": "[encoded data removed]"
          },
          "metadata": {
            "needs_background": "light"
          }
        }
      ],
      "source": [
        "plt.scatter(y_test,Rand_pred)\n",
        "plt.xlabel('Y test')\n",
        "plt.ylabel('Y pred')\n",
        "plt.show()"
      ]
    },
    {
      "cell_type": "code",
      "execution_count": 249,
      "metadata": {
        "id": "4qGKueG5sNIn",
        "colab": {
          "base_uri": "https://localhost:8080/",
          "height": 98
        },
        "outputId": "6d41b479-df1b-4432-9c46-4b36be5bf55e"
      },
      "outputs": [
        {
          "name": "stdout",
          "output_type": "stream",
          "text": [
            "Is the patient smooker(1) or non smoker (0) ?1\n"
          ]
        },
        {
          "output_type": "execute_result",
          "data": {
            "text/plain": [
              "  smoker\n",
              "0      1"
            ],
            "text/html": [
              "\n",
              "  <div id=\"df-5dfd8a7c-aa6f-47d2-aabf-78fdc3e99f2d\">\n",
              "    <div class=\"colab-df-container\">\n",
              "      <div>\n",
              "<style scoped>\n",
              "    .dataframe tbody tr th:only-of-type {\n",
              "        vertical-align: middle;\n",
              "    }\n",
              "\n",
              "    .dataframe tbody tr th {\n",
              "        vertical-align: top;\n",
              "    }\n",
              "\n",
              "    .dataframe thead th {\n",
              "        text-align: right;\n",
              "    }\n",
              "</style>\n",
              "<table border=\"1\" class=\"dataframe\">\n",
              "  <thead>\n",
              "    <tr style=\"text-align: right;\">\n",
              "      <th></th>\n",
              "      <th>smoker</th>\n",
              "    </tr>\n",
              "  </thead>\n",
              "  <tbody>\n",
              "    <tr>\n",
              "      <th>0</th>\n",
              "      <td>1</td>\n",
              "    </tr>\n",
              "  </tbody>\n",
              "</table>\n",
              "</div>\n",
              "      <button class=\"colab-df-convert\" onclick=\"convertToInteractive('df-5dfd8a7c-aa6f-47d2-aabf-78fdc3e99f2d')\"\n",
              "              title=\"Convert this dataframe to an interactive table.\"\n",
              "              style=\"display:none;\">\n",
              "        \n",
              "  <svg xmlns=\"http://www.w3.org/2000/svg\" height=\"24px\"viewBox=\"0 0 24 24\"\n",
              "       width=\"24px\">\n",
              "    <path d=\"M0 0h24v24H0V0z\" fill=\"none\"/>\n",
              "    <path d=\"M18.56 5.44l.94 2.06.94-2.06 2.06-.94-2.06-.94-.94-2.06-.94 2.06-2.06.94zm-11 1L8.5 8.5l.94-2.06 2.06-.94-2.06-.94L8.5 2.5l-.94 2.06-2.06.94zm10 10l.94 2.06.94-2.06 2.06-.94-2.06-.94-.94-2.06-.94 2.06-2.06.94z\"/><path d=\"M17.41 7.96l-1.37-1.37c-.4-.4-.92-.59-1.43-.59-.52 0-1.04.2-1.43.59L10.3 9.45l-7.72 7.72c-.78.78-.78 2.05 0 2.83L4 21.41c.39.39.9.59 1.41.59.51 0 1.02-.2 1.41-.59l7.78-7.78 2.81-2.81c.8-.78.8-2.07 0-2.86zM5.41 20L4 18.59l7.72-7.72 1.47 1.35L5.41 20z\"/>\n",
              "  </svg>\n",
              "      </button>\n",
              "      \n",
              "  <style>\n",
              "    .colab-df-container {\n",
              "      display:flex;\n",
              "      flex-wrap:wrap;\n",
              "      gap: 12px;\n",
              "    }\n",
              "\n",
              "    .colab-df-convert {\n",
              "      background-color: #E8F0FE;\n",
              "      border: none;\n",
              "      border-radius: 50%;\n",
              "      cursor: pointer;\n",
              "      display: none;\n",
              "      fill: #1967D2;\n",
              "      height: 32px;\n",
              "      padding: 0 0 0 0;\n",
              "      width: 32px;\n",
              "    }\n",
              "\n",
              "    .colab-df-convert:hover {\n",
              "      background-color: #E2EBFA;\n",
              "      box-shadow: 0px 1px 2px rgba(60, 64, 67, 0.3), 0px 1px 3px 1px rgba(60, 64, 67, 0.15);\n",
              "      fill: #174EA6;\n",
              "    }\n",
              "\n",
              "    [theme=dark] .colab-df-convert {\n",
              "      background-color: #3B4455;\n",
              "      fill: #D2E3FC;\n",
              "    }\n",
              "\n",
              "    [theme=dark] .colab-df-convert:hover {\n",
              "      background-color: #434B5C;\n",
              "      box-shadow: 0px 1px 3px 1px rgba(0, 0, 0, 0.15);\n",
              "      filter: drop-shadow(0px 1px 2px rgba(0, 0, 0, 0.3));\n",
              "      fill: #FFFFFF;\n",
              "    }\n",
              "  </style>\n",
              "\n",
              "      <script>\n",
              "        const buttonEl =\n",
              "          document.querySelector('#df-5dfd8a7c-aa6f-47d2-aabf-78fdc3e99f2d button.colab-df-convert');\n",
              "        buttonEl.style.display =\n",
              "          google.colab.kernel.accessAllowed ? 'block' : 'none';\n",
              "\n",
              "        async function convertToInteractive(key) {\n",
              "          const element = document.querySelector('#df-5dfd8a7c-aa6f-47d2-aabf-78fdc3e99f2d');\n",
              "          const dataTable =\n",
              "            await google.colab.kernel.invokeFunction('convertToInteractive',\n",
              "                                                     [key], {});\n",
              "          if (!dataTable) return;\n",
              "\n",
              "          const docLinkHtml = 'Like what you see? Visit the ' +\n",
              "            '<a target=\"_blank\" href=https://colab.research.google.com/notebooks/data_table.ipynb>data table notebook</a>'\n",
              "            + ' to learn more about interactive tables.';\n",
              "          element.innerHTML = '';\n",
              "          dataTable['output_type'] = 'display_data';\n",
              "          await google.colab.output.renderOutput(dataTable, element);\n",
              "          const docLink = document.createElement('div');\n",
              "          docLink.innerHTML = docLinkHtml;\n",
              "          element.appendChild(docLink);\n",
              "        }\n",
              "      </script>\n",
              "    </div>\n",
              "  </div>\n",
              "  "
            ]
          },
          "metadata": {},
          "execution_count": 249
        }
      ],
      "source": [
        "#smoker =1 , non smoker = 0\n",
        "a=input(\"Is the patient smooker(1) or non smoker (0) ?\")\n",
        "data = {'smoker':a}\n",
        "index = [0]\n",
        "cust_df = pd.DataFrame(data, index)\n",
        "cust_df"
      ]
    },
    {
      "cell_type": "code",
      "execution_count": 250,
      "metadata": {
        "id": "kMMk5R0ZsQuF",
        "colab": {
          "base_uri": "https://localhost:8080/"
        },
        "outputId": "c37bd9d7-56fc-4bb7-bb2a-db102f84896b"
      },
      "outputs": [
        {
          "output_type": "stream",
          "name": "stdout",
          "text": [
            "The medical insurance cost of the new customer under Linear regression is:  [31767.00841868]\n",
            "The medical insurance cost of the new customer under Random forest regression is:  [31663.72118929]\n"
          ]
        }
      ],
      "source": [
        "costpredLin = Lin_reg.predict(cust_df)\n",
        "costpredRand = Rand_reg.predict(cust_df)\n",
        "\n",
        "print(\"The medical insurance cost of the new customer under Linear regression is: \", costpredLin)\n",
        "print(\"The medical insurance cost of the new customer under Random forest regression is: \", costpredRand)"
      ]
    },
    {
      "cell_type": "markdown",
      "metadata": {
        "id": "KZ9Wv3BzrX7J"
      },
      "source": [
        "#**Prediction of medical insurance using attribute 'REGION'**"
      ]
    },
    {
      "cell_type": "code",
      "execution_count": 251,
      "metadata": {
        "id": "TGf-zRGRrss7",
        "colab": {
          "base_uri": "https://localhost:8080/"
        },
        "outputId": "df9a4043-1703-47c9-c2ea-61533f81b9da"
      },
      "outputs": [
        {
          "output_type": "stream",
          "name": "stdout",
          "text": [
            "X_train shape(1070, 1)\n",
            "X_test shape(268, 1)\n",
            "Y_train shape(1070,)\n",
            "Y_test shape(268,)\n"
          ]
        }
      ],
      "source": [
        "X= label_data.drop([\"charges\",\"age\",\"sex\",\"children\",\"smoker\",\"bmi\"],axis =1)\n",
        "y= label_data[\"charges\"]\n",
        "X_train, X_test, y_train, y_test = train_test_split(X, y,test_size=0.20,random_state=42)\n",
        "\n",
        "print(f\"X_train shape{X_train.shape}\")\n",
        "print(f\"X_test shape{X_test.shape}\")\n",
        "print(f\"Y_train shape{y_train.shape}\")\n",
        "print(f\"Y_test shape{y_test.shape}\")"
      ]
    },
    {
      "cell_type": "code",
      "execution_count": 252,
      "metadata": {
        "id": "YpD5KRWjr6VB"
      },
      "outputs": [],
      "source": [
        "Lin_reg = LinearRegression()\n",
        "Lin_reg.fit(X_train,y_train)\n",
        "Lin_pred = Lin_reg.predict(X_test)\n",
        "\n",
        "Rand_reg=RandomForestRegressor()\n",
        "Rand_reg.fit(X_train,y_train)\n",
        "Rand_pred = Rand_reg.predict(X_test)"
      ]
    },
    {
      "cell_type": "code",
      "execution_count": 253,
      "metadata": {
        "id": "wQToTpglr-R2",
        "colab": {
          "base_uri": "https://localhost:8080/"
        },
        "outputId": "d88d078b-db0f-45ab-b919-541f0ffce278"
      },
      "outputs": [
        {
          "output_type": "stream",
          "name": "stdout",
          "text": [
            "MSE for linear regression : 155390388.27671438\n",
            "MSE for Random forest regression : 153582727.75968096\n",
            "------------------------------------------------------------------------------------------\n",
            "MAE for linear regression : 9593.328497839419\n",
            "MAE for Random forest regression : 9542.72849809427\n",
            "------------------------------------------------------------------------------------------\n",
            "RMSE for linear regression : 12465.568108863486\n",
            "RMSE for Random forest regression : 12392.849864324226\n"
          ]
        }
      ],
      "source": [
        "from sklearn.metrics import *\n",
        "#Mean squared error\n",
        "print('MSE for linear regression :', mean_squared_error(y_test, Lin_pred))\n",
        "print('MSE for Random forest regression :', mean_squared_error(y_test, Rand_pred))\n",
        "print(\"------------------------------------------------------------------------------------------\")\n",
        "\n",
        "#Mean absolute error\n",
        "print('MAE for linear regression :', mean_absolute_error(y_test, Lin_pred))\n",
        "print('MAE for Random forest regression :', mean_absolute_error(y_test, Rand_pred))\n",
        "print(\"------------------------------------------------------------------------------------------\")\n",
        "\n",
        "#Root mean squared error\n",
        "print('RMSE for linear regression :', np.sqrt(mean_squared_error(y_test, Lin_pred)))\n",
        "print('RMSE for Random forest regression :', np.sqrt(mean_squared_error(y_test, Rand_pred)))\n"
      ]
    },
    {
      "cell_type": "code",
      "execution_count": 254,
      "metadata": {
        "id": "ZB_8KpIJsBy4",
        "colab": {
          "base_uri": "https://localhost:8080/"
        },
        "outputId": "e7221661-c892-4ac7-daad-3b50cdafd123"
      },
      "outputs": [
        {
          "output_type": "stream",
          "name": "stdout",
          "text": [
            "The R2 score for Linear regression is  -0.0009124505146014261\n",
            "The R2 score for Random forest regression is 0.010731190626061982\n"
          ]
        }
      ],
      "source": [
        "print(f\"The R2 score for Linear regression is  {r2_score(y_test,Lin_pred)}\")\n",
        "print(f\"The R2 score for Random forest regression is {r2_score(y_test,Rand_pred)}\")"
      ]
    },
    {
      "cell_type": "code",
      "execution_count": 255,
      "metadata": {
        "id": "Jr7rVG87sFcW",
        "colab": {
          "base_uri": "https://localhost:8080/",
          "height": 290
        },
        "outputId": "9f883fb0-c373-4ec2-d9b9-17d498279b25"
      },
      "outputs": [
        {
          "output_type": "display_data",
          "data": {
            "text/plain": [
              "<Figure size 432x288 with 1 Axes>"
            ],
            "image/png": "[encoded data removed]"
          },
          "metadata": {
            "needs_background": "light"
          }
        }
      ],
      "source": [
        "plt.scatter(y_test,Lin_pred)\n",
        "plt.xlabel('Y test')\n",
        "plt.ylabel('Y pred')\n",
        "plt.show()"
      ]
    },
    {
      "cell_type": "code",
      "execution_count": 256,
      "metadata": {
        "id": "lPhF8m13sJb7",
        "colab": {
          "base_uri": "https://localhost:8080/",
          "height": 279
        },
        "outputId": "83973c2b-1123-4b0a-e9f4-dbd242b9a36b"
      },
      "outputs": [
        {
          "output_type": "display_data",
          "data": {
            "text/plain": [
              "<Figure size 432x288 with 1 Axes>"
            ],
            "image/png": "[encoded data removed]"
          },
          "metadata": {
            "needs_background": "light"
          }
        }
      ],
      "source": [
        "plt.scatter(y_test,Rand_pred)\n",
        "plt.xlabel('Y test')\n",
        "plt.ylabel('Y pred')\n",
        "plt.show()"
      ]
    },
    {
      "cell_type": "code",
      "execution_count": 257,
      "metadata": {
        "id": "f5-PGat6sN1Q",
        "colab": {
          "base_uri": "https://localhost:8080/",
          "height": 98
        },
        "outputId": "d773d778-a125-40df-aebf-f5025ec70b60"
      },
      "outputs": [
        {
          "name": "stdout",
          "output_type": "stream",
          "text": [
            "what is the region of the patient  ?4\n"
          ]
        },
        {
          "output_type": "execute_result",
          "data": {
            "text/plain": [
              "  region\n",
              "0      4"
            ],
            "text/html": [
              "\n",
              "  <div id=\"df-3754330f-51ea-454a-93ca-038f640480f1\">\n",
              "    <div class=\"colab-df-container\">\n",
              "      <div>\n",
              "<style scoped>\n",
              "    .dataframe tbody tr th:only-of-type {\n",
              "        vertical-align: middle;\n",
              "    }\n",
              "\n",
              "    .dataframe tbody tr th {\n",
              "        vertical-align: top;\n",
              "    }\n",
              "\n",
              "    .dataframe thead th {\n",
              "        text-align: right;\n",
              "    }\n",
              "</style>\n",
              "<table border=\"1\" class=\"dataframe\">\n",
              "  <thead>\n",
              "    <tr style=\"text-align: right;\">\n",
              "      <th></th>\n",
              "      <th>region</th>\n",
              "    </tr>\n",
              "  </thead>\n",
              "  <tbody>\n",
              "    <tr>\n",
              "      <th>0</th>\n",
              "      <td>4</td>\n",
              "    </tr>\n",
              "  </tbody>\n",
              "</table>\n",
              "</div>\n",
              "      <button class=\"colab-df-convert\" onclick=\"convertToInteractive('df-3754330f-51ea-454a-93ca-038f640480f1')\"\n",
              "              title=\"Convert this dataframe to an interactive table.\"\n",
              "              style=\"display:none;\">\n",
              "        \n",
              "  <svg xmlns=\"http://www.w3.org/2000/svg\" height=\"24px\"viewBox=\"0 0 24 24\"\n",
              "       width=\"24px\">\n",
              "    <path d=\"M0 0h24v24H0V0z\" fill=\"none\"/>\n",
              "    <path d=\"M18.56 5.44l.94 2.06.94-2.06 2.06-.94-2.06-.94-.94-2.06-.94 2.06-2.06.94zm-11 1L8.5 8.5l.94-2.06 2.06-.94-2.06-.94L8.5 2.5l-.94 2.06-2.06.94zm10 10l.94 2.06.94-2.06 2.06-.94-2.06-.94-.94-2.06-.94 2.06-2.06.94z\"/><path d=\"M17.41 7.96l-1.37-1.37c-.4-.4-.92-.59-1.43-.59-.52 0-1.04.2-1.43.59L10.3 9.45l-7.72 7.72c-.78.78-.78 2.05 0 2.83L4 21.41c.39.39.9.59 1.41.59.51 0 1.02-.2 1.41-.59l7.78-7.78 2.81-2.81c.8-.78.8-2.07 0-2.86zM5.41 20L4 18.59l7.72-7.72 1.47 1.35L5.41 20z\"/>\n",
              "  </svg>\n",
              "      </button>\n",
              "      \n",
              "  <style>\n",
              "    .colab-df-container {\n",
              "      display:flex;\n",
              "      flex-wrap:wrap;\n",
              "      gap: 12px;\n",
              "    }\n",
              "\n",
              "    .colab-df-convert {\n",
              "      background-color: #E8F0FE;\n",
              "      border: none;\n",
              "      border-radius: 50%;\n",
              "      cursor: pointer;\n",
              "      display: none;\n",
              "      fill: #1967D2;\n",
              "      height: 32px;\n",
              "      padding: 0 0 0 0;\n",
              "      width: 32px;\n",
              "    }\n",
              "\n",
              "    .colab-df-convert:hover {\n",
              "      background-color: #E2EBFA;\n",
              "      box-shadow: 0px 1px 2px rgba(60, 64, 67, 0.3), 0px 1px 3px 1px rgba(60, 64, 67, 0.15);\n",
              "      fill: #174EA6;\n",
              "    }\n",
              "\n",
              "    [theme=dark] .colab-df-convert {\n",
              "      background-color: #3B4455;\n",
              "      fill: #D2E3FC;\n",
              "    }\n",
              "\n",
              "    [theme=dark] .colab-df-convert:hover {\n",
              "      background-color: #434B5C;\n",
              "      box-shadow: 0px 1px 3px 1px rgba(0, 0, 0, 0.15);\n",
              "      filter: drop-shadow(0px 1px 2px rgba(0, 0, 0, 0.3));\n",
              "      fill: #FFFFFF;\n",
              "    }\n",
              "  </style>\n",
              "\n",
              "      <script>\n",
              "        const buttonEl =\n",
              "          document.querySelector('#df-3754330f-51ea-454a-93ca-038f640480f1 button.colab-df-convert');\n",
              "        buttonEl.style.display =\n",
              "          google.colab.kernel.accessAllowed ? 'block' : 'none';\n",
              "\n",
              "        async function convertToInteractive(key) {\n",
              "          const element = document.querySelector('#df-3754330f-51ea-454a-93ca-038f640480f1');\n",
              "          const dataTable =\n",
              "            await google.colab.kernel.invokeFunction('convertToInteractive',\n",
              "                                                     [key], {});\n",
              "          if (!dataTable) return;\n",
              "\n",
              "          const docLinkHtml = 'Like what you see? Visit the ' +\n",
              "            '<a target=\"_blank\" href=https://colab.research.google.com/notebooks/data_table.ipynb>data table notebook</a>'\n",
              "            + ' to learn more about interactive tables.';\n",
              "          element.innerHTML = '';\n",
              "          dataTable['output_type'] = 'display_data';\n",
              "          await google.colab.output.renderOutput(dataTable, element);\n",
              "          const docLink = document.createElement('div');\n",
              "          docLink.innerHTML = docLinkHtml;\n",
              "          element.appendChild(docLink);\n",
              "        }\n",
              "      </script>\n",
              "    </div>\n",
              "  </div>\n",
              "  "
            ]
          },
          "metadata": {},
          "execution_count": 257
        }
      ],
      "source": [
        "a=input(\"what is the region of the patient  ?\")\n",
        "data = {'region':a}\n",
        "index = [0]\n",
        "cust_df = pd.DataFrame(data, index)\n",
        "cust_df"
      ]
    },
    {
      "cell_type": "code",
      "execution_count": 258,
      "metadata": {
        "id": "xluTcBdvsRZW",
        "colab": {
          "base_uri": "https://localhost:8080/"
        },
        "outputId": "c964c931-a53c-4416-eb08-cb19540309c3"
      },
      "outputs": [
        {
          "output_type": "stream",
          "name": "stdout",
          "text": [
            "The medical insurance cost of the new customer under Linear regression is:  [13342.88322272]\n",
            "The medical insurance cost of the new customer under Random forest regression is:  [12650.29681851]\n"
          ]
        }
      ],
      "source": [
        "costpredLin = Lin_reg.predict(cust_df)\n",
        "costpredRand = Rand_reg.predict(cust_df)\n",
        "\n",
        "print(\"The medical insurance cost of the new customer under Linear regression is: \", costpredLin)\n",
        "print(\"The medical insurance cost of the new customer under Random forest regression is: \", costpredRand)"
      ]
    },
    {
      "cell_type": "markdown",
      "metadata": {
        "id": "q4rnEiWXuBRC"
      },
      "source": [
        "#**Prediction of medical insurance using attribute 'AGE with SEX'**"
      ]
    },
    {
      "cell_type": "code",
      "execution_count": 259,
      "metadata": {
        "id": "wfJ2t1diuyMr",
        "colab": {
          "base_uri": "https://localhost:8080/"
        },
        "outputId": "979f49de-67d6-49f2-e4f3-60f92a043746"
      },
      "outputs": [
        {
          "output_type": "stream",
          "name": "stdout",
          "text": [
            "X_train shape(1070, 2)\n",
            "X_test shape(268, 2)\n",
            "Y_train shape(1070,)\n",
            "Y_test shape(268,)\n"
          ]
        }
      ],
      "source": [
        "X= label_data.drop([\"charges\",\"children\",\"smoker\",\"bmi\",\"region\"],axis =1)\n",
        "y= label_data[\"charges\"]\n",
        "X_train, X_test, y_train, y_test = train_test_split(X, y,test_size=0.20,random_state=42)\n",
        "\n",
        "print(f\"X_train shape{X_train.shape}\")\n",
        "print(f\"X_test shape{X_test.shape}\")\n",
        "print(f\"Y_train shape{y_train.shape}\")\n",
        "print(f\"Y_test shape{y_test.shape}\")"
      ]
    },
    {
      "cell_type": "code",
      "execution_count": 260,
      "metadata": {
        "id": "V9CwWZs5vR_F"
      },
      "outputs": [],
      "source": [
        "Lin_reg = LinearRegression()\n",
        "Lin_reg.fit(X_train,y_train)\n",
        "Lin_pred = Lin_reg.predict(X_test)\n",
        "\n",
        "Rand_reg=RandomForestRegressor()\n",
        "Rand_reg.fit(X_train,y_train)\n",
        "Rand_pred = Rand_reg.predict(X_test)"
      ]
    },
    {
      "cell_type": "code",
      "execution_count": 261,
      "metadata": {
        "id": "lp6wWZW7vT1q",
        "colab": {
          "base_uri": "https://localhost:8080/"
        },
        "outputId": "effb879b-8583-4467-c0a3-4d557f4c782e"
      },
      "outputs": [
        {
          "output_type": "stream",
          "name": "stdout",
          "text": [
            "MSE for linear regression : 135083722.3222642\n",
            "MSE for Random forest regression : 146660662.96057853\n",
            "------------------------------------------------------------------------------------------\n",
            "MAE for linear regression : 9090.817005259492\n",
            "MAE for Random forest regression : 9073.569537562562\n",
            "------------------------------------------------------------------------------------------\n",
            "RMSE for linear regression : 11622.552315316296\n",
            "RMSE for Random forest regression : 12110.353543996085\n"
          ]
        }
      ],
      "source": [
        "from sklearn.metrics import *\n",
        "#Mean squared error\n",
        "print('MSE for linear regression :', mean_squared_error(y_test, Lin_pred))\n",
        "print('MSE for Random forest regression :', mean_squared_error(y_test, Rand_pred))\n",
        "print(\"------------------------------------------------------------------------------------------\")\n",
        "\n",
        "#Mean absolute error\n",
        "print('MAE for linear regression :', mean_absolute_error(y_test, Lin_pred))\n",
        "print('MAE for Random forest regression :', mean_absolute_error(y_test, Rand_pred))\n",
        "print(\"------------------------------------------------------------------------------------------\")\n",
        "\n",
        "#Root mean squared error\n",
        "print('RMSE for linear regression :', np.sqrt(mean_squared_error(y_test, Lin_pred)))\n",
        "print('RMSE for Random forest regression :', np.sqrt(mean_squared_error(y_test, Rand_pred)))\n"
      ]
    },
    {
      "cell_type": "code",
      "execution_count": 262,
      "metadata": {
        "id": "er5beQw3vVXX",
        "colab": {
          "base_uri": "https://localhost:8080/"
        },
        "outputId": "cfd5c2a1-78bd-4ff1-ce06-8cf4f6efb866"
      },
      "outputs": [
        {
          "output_type": "stream",
          "name": "stdout",
          "text": [
            "The R2 score for Linear regression is  0.12988839893083326\n",
            "The R2 score for Random forest regression is 0.05531812368882416\n"
          ]
        }
      ],
      "source": [
        "print(f\"The R2 score for Linear regression is  {r2_score(y_test,Lin_pred)}\")\n",
        "print(f\"The R2 score for Random forest regression is {r2_score(y_test,Rand_pred)}\")"
      ]
    },
    {
      "cell_type": "code",
      "execution_count": 263,
      "metadata": {
        "id": "i1RxvmvxvWz2",
        "colab": {
          "base_uri": "https://localhost:8080/",
          "height": 279
        },
        "outputId": "737b9494-0fd1-4cbc-9e9a-b37095fc0be5"
      },
      "outputs": [
        {
          "output_type": "display_data",
          "data": {
            "text/plain": [
              "<Figure size 432x288 with 1 Axes>"
            ],
            "image/png": "[encoded data removed]"
          },
          "metadata": {
            "needs_background": "light"
          }
        }
      ],
      "source": [
        "plt.scatter(y_test,Lin_pred)\n",
        "plt.xlabel('Y test')\n",
        "plt.ylabel('Y pred')\n",
        "plt.show()"
      ]
    },
    {
      "cell_type": "code",
      "execution_count": 264,
      "metadata": {
        "id": "E6D5OFKWvYdp",
        "colab": {
          "base_uri": "https://localhost:8080/",
          "height": 279
        },
        "outputId": "dbbecf38-7538-4502-8d1c-39958625ff51"
      },
      "outputs": [
        {
          "output_type": "display_data",
          "data": {
            "text/plain": [
              "<Figure size 432x288 with 1 Axes>"
            ],
            "image/png": "[encoded data removed]"
          },
          "metadata": {
            "needs_background": "light"
          }
        }
      ],
      "source": [
        "plt.scatter(y_test,Rand_pred)\n",
        "plt.xlabel('Y test')\n",
        "plt.ylabel('Y pred')\n",
        "plt.show()"
      ]
    },
    {
      "cell_type": "code",
      "execution_count": 265,
      "metadata": {
        "id": "5rMDXO2OvZ4b",
        "colab": {
          "base_uri": "https://localhost:8080/",
          "height": 115
        },
        "outputId": "15721dc4-f436-4755-a7e7-b5e31f210b21"
      },
      "outputs": [
        {
          "name": "stdout",
          "output_type": "stream",
          "text": [
            "what is the age of the patient admitted  ?3\n",
            "what is the sex of the patient admitted ?1\n"
          ]
        },
        {
          "output_type": "execute_result",
          "data": {
            "text/plain": [
              "  age sex\n",
              "0   3   1"
            ],
            "text/html": [
              "\n",
              "  <div id=\"df-44525c36-a577-4518-96bf-09327115c6d6\">\n",
              "    <div class=\"colab-df-container\">\n",
              "      <div>\n",
              "<style scoped>\n",
              "    .dataframe tbody tr th:only-of-type {\n",
              "        vertical-align: middle;\n",
              "    }\n",
              "\n",
              "    .dataframe tbody tr th {\n",
              "        vertical-align: top;\n",
              "    }\n",
              "\n",
              "    .dataframe thead th {\n",
              "        text-align: right;\n",
              "    }\n",
              "</style>\n",
              "<table border=\"1\" class=\"dataframe\">\n",
              "  <thead>\n",
              "    <tr style=\"text-align: right;\">\n",
              "      <th></th>\n",
              "      <th>age</th>\n",
              "      <th>sex</th>\n",
              "    </tr>\n",
              "  </thead>\n",
              "  <tbody>\n",
              "    <tr>\n",
              "      <th>0</th>\n",
              "      <td>3</td>\n",
              "      <td>1</td>\n",
              "    </tr>\n",
              "  </tbody>\n",
              "</table>\n",
              "</div>\n",
              "      <button class=\"colab-df-convert\" onclick=\"convertToInteractive('df-44525c36-a577-4518-96bf-09327115c6d6')\"\n",
              "              title=\"Convert this dataframe to an interactive table.\"\n",
              "              style=\"display:none;\">\n",
              "        \n",
              "  <svg xmlns=\"http://www.w3.org/2000/svg\" height=\"24px\"viewBox=\"0 0 24 24\"\n",
              "       width=\"24px\">\n",
              "    <path d=\"M0 0h24v24H0V0z\" fill=\"none\"/>\n",
              "    <path d=\"M18.56 5.44l.94 2.06.94-2.06 2.06-.94-2.06-.94-.94-2.06-.94 2.06-2.06.94zm-11 1L8.5 8.5l.94-2.06 2.06-.94-2.06-.94L8.5 2.5l-.94 2.06-2.06.94zm10 10l.94 2.06.94-2.06 2.06-.94-2.06-.94-.94-2.06-.94 2.06-2.06.94z\"/><path d=\"M17.41 7.96l-1.37-1.37c-.4-.4-.92-.59-1.43-.59-.52 0-1.04.2-1.43.59L10.3 9.45l-7.72 7.72c-.78.78-.78 2.05 0 2.83L4 21.41c.39.39.9.59 1.41.59.51 0 1.02-.2 1.41-.59l7.78-7.78 2.81-2.81c.8-.78.8-2.07 0-2.86zM5.41 20L4 18.59l7.72-7.72 1.47 1.35L5.41 20z\"/>\n",
              "  </svg>\n",
              "      </button>\n",
              "      \n",
              "  <style>\n",
              "    .colab-df-container {\n",
              "      display:flex;\n",
              "      flex-wrap:wrap;\n",
              "      gap: 12px;\n",
              "    }\n",
              "\n",
              "    .colab-df-convert {\n",
              "      background-color: #E8F0FE;\n",
              "      border: none;\n",
              "      border-radius: 50%;\n",
              "      cursor: pointer;\n",
              "      display: none;\n",
              "      fill: #1967D2;\n",
              "      height: 32px;\n",
              "      padding: 0 0 0 0;\n",
              "      width: 32px;\n",
              "    }\n",
              "\n",
              "    .colab-df-convert:hover {\n",
              "      background-color: #E2EBFA;\n",
              "      box-shadow: 0px 1px 2px rgba(60, 64, 67, 0.3), 0px 1px 3px 1px rgba(60, 64, 67, 0.15);\n",
              "      fill: #174EA6;\n",
              "    }\n",
              "\n",
              "    [theme=dark] .colab-df-convert {\n",
              "      background-color: #3B4455;\n",
              "      fill: #D2E3FC;\n",
              "    }\n",
              "\n",
              "    [theme=dark] .colab-df-convert:hover {\n",
              "      background-color: #434B5C;\n",
              "      box-shadow: 0px 1px 3px 1px rgba(0, 0, 0, 0.15);\n",
              "      filter: drop-shadow(0px 1px 2px rgba(0, 0, 0, 0.3));\n",
              "      fill: #FFFFFF;\n",
              "    }\n",
              "  </style>\n",
              "\n",
              "      <script>\n",
              "        const buttonEl =\n",
              "          document.querySelector('#df-44525c36-a577-4518-96bf-09327115c6d6 button.colab-df-convert');\n",
              "        buttonEl.style.display =\n",
              "          google.colab.kernel.accessAllowed ? 'block' : 'none';\n",
              "\n",
              "        async function convertToInteractive(key) {\n",
              "          const element = document.querySelector('#df-44525c36-a577-4518-96bf-09327115c6d6');\n",
              "          const dataTable =\n",
              "            await google.colab.kernel.invokeFunction('convertToInteractive',\n",
              "                                                     [key], {});\n",
              "          if (!dataTable) return;\n",
              "\n",
              "          const docLinkHtml = 'Like what you see? Visit the ' +\n",
              "            '<a target=\"_blank\" href=https://colab.research.google.com/notebooks/data_table.ipynb>data table notebook</a>'\n",
              "            + ' to learn more about interactive tables.';\n",
              "          element.innerHTML = '';\n",
              "          dataTable['output_type'] = 'display_data';\n",
              "          await google.colab.output.renderOutput(dataTable, element);\n",
              "          const docLink = document.createElement('div');\n",
              "          docLink.innerHTML = docLinkHtml;\n",
              "          element.appendChild(docLink);\n",
              "        }\n",
              "      </script>\n",
              "    </div>\n",
              "  </div>\n",
              "  "
            ]
          },
          "metadata": {},
          "execution_count": 265
        }
      ],
      "source": [
        "a=input(\"what is the age of the patient admitted  ?\")\n",
        "b=input(\"what is the sex of the patient admitted ?\")\n",
        "data = {'age':a,'sex':b}\n",
        "index = [0]\n",
        "cust_df = pd.DataFrame(data, index)\n",
        "cust_df"
      ]
    },
    {
      "cell_type": "code",
      "execution_count": 266,
      "metadata": {
        "id": "n3z4KFjwvbOE",
        "colab": {
          "base_uri": "https://localhost:8080/"
        },
        "outputId": "0fcc7b7c-be6e-4ad5-b6bc-cdea926354a9"
      },
      "outputs": [
        {
          "output_type": "stream",
          "name": "stdout",
          "text": [
            "The medical insurance cost of the new customer under Linear regression is:  [5277.1968712]\n",
            "The medical insurance cost of the new customer under Random forest regression is:  [9012.68667456]\n"
          ]
        }
      ],
      "source": [
        "costpredLin = Lin_reg.predict(cust_df)\n",
        "costpredRand = Rand_reg.predict(cust_df)\n",
        "\n",
        "print(\"The medical insurance cost of the new customer under Linear regression is: \", costpredLin)\n",
        "print(\"The medical insurance cost of the new customer under Random forest regression is: \", costpredRand)"
      ]
    },
    {
      "cell_type": "markdown",
      "metadata": {
        "id": "4ph_YfkhwUKZ"
      },
      "source": [
        "#**Prediction of medical insurance using attribute 'AGE ,SEX ,BMI'**"
      ]
    },
    {
      "cell_type": "code",
      "execution_count": 267,
      "metadata": {
        "id": "7oPRqPSpwgjb",
        "colab": {
          "base_uri": "https://localhost:8080/"
        },
        "outputId": "d280df92-aa18-4437-a30c-ef1aac14b696"
      },
      "outputs": [
        {
          "output_type": "stream",
          "name": "stdout",
          "text": [
            "X_train shape(1070, 3)\n",
            "X_test shape(268, 3)\n",
            "Y_train shape(1070,)\n",
            "Y_test shape(268,)\n"
          ]
        }
      ],
      "source": [
        "X= label_data.drop([\"charges\",\"children\",\"smoker\",\"region\"],axis =1)\n",
        "y= label_data[\"charges\"]\n",
        "X_train, X_test, y_train, y_test = train_test_split(X, y,test_size=0.20,random_state=42)\n",
        "\n",
        "print(f\"X_train shape{X_train.shape}\")\n",
        "print(f\"X_test shape{X_test.shape}\")\n",
        "print(f\"Y_train shape{y_train.shape}\")\n",
        "print(f\"Y_test shape{y_test.shape}\")"
      ]
    },
    {
      "cell_type": "code",
      "execution_count": 268,
      "metadata": {
        "id": "TB90TyuDwlhN"
      },
      "outputs": [],
      "source": [
        "Lin_reg = LinearRegression()\n",
        "Lin_reg.fit(X_train,y_train)\n",
        "Lin_pred = Lin_reg.predict(X_test)\n",
        "\n",
        "Rand_reg=RandomForestRegressor()\n",
        "Rand_reg.fit(X_train,y_train)\n",
        "Rand_pred = Rand_reg.predict(X_test)"
      ]
    },
    {
      "cell_type": "code",
      "execution_count": 269,
      "metadata": {
        "id": "06KUXhmFwmwa",
        "colab": {
          "base_uri": "https://localhost:8080/"
        },
        "outputId": "7544cab6-c78f-46b1-aeb5-0adc64994af4"
      },
      "outputs": [
        {
          "output_type": "stream",
          "name": "stdout",
          "text": [
            "MSE for linear regression : 131043916.53369787\n",
            "MSE for Random forest regression : 155793616.5496622\n",
            "------------------------------------------------------------------------------------------\n",
            "MAE for linear regression : 9147.865122298897\n",
            "MAE for Random forest regression : 9268.160133132185\n",
            "------------------------------------------------------------------------------------------\n",
            "RMSE for linear regression : 11447.441484178806\n",
            "RMSE for Random forest regression : 12481.731312188314\n"
          ]
        }
      ],
      "source": [
        "from sklearn.metrics import *\n",
        "#Mean squared error\n",
        "print('MSE for linear regression :', mean_squared_error(y_test, Lin_pred))\n",
        "print('MSE for Random forest regression :', mean_squared_error(y_test, Rand_pred))\n",
        "print(\"------------------------------------------------------------------------------------------\")\n",
        "\n",
        "#Mean absolute error\n",
        "print('MAE for linear regression :', mean_absolute_error(y_test, Lin_pred))\n",
        "print('MAE for Random forest regression :', mean_absolute_error(y_test, Rand_pred))\n",
        "print(\"------------------------------------------------------------------------------------------\")\n",
        "\n",
        "#Root mean squared error\n",
        "print('RMSE for linear regression :', np.sqrt(mean_squared_error(y_test, Lin_pred)))\n",
        "print('RMSE for Random forest regression :', np.sqrt(mean_squared_error(y_test, Rand_pred)))\n"
      ]
    },
    {
      "cell_type": "code",
      "execution_count": 270,
      "metadata": {
        "id": "t7WZHcgKwoDH",
        "colab": {
          "base_uri": "https://localhost:8080/"
        },
        "outputId": "1b46171b-fa58-4e09-99a1-738834373f5f"
      },
      "outputs": [
        {
          "output_type": "stream",
          "name": "stdout",
          "text": [
            "The R2 score for Linear regression is  0.15590990487003253\n",
            "The R2 score for Random forest regression is -0.0035097552981782076\n"
          ]
        }
      ],
      "source": [
        "print(f\"The R2 score for Linear regression is  {r2_score(y_test,Lin_pred)}\")\n",
        "print(f\"The R2 score for Random forest regression is {r2_score(y_test,Rand_pred)}\")"
      ]
    },
    {
      "cell_type": "code",
      "execution_count": 271,
      "metadata": {
        "id": "aWIKncKCwpRX",
        "colab": {
          "base_uri": "https://localhost:8080/",
          "height": 279
        },
        "outputId": "e6a2d365-79b1-4842-f777-668c05aba6db"
      },
      "outputs": [
        {
          "output_type": "display_data",
          "data": {
            "text/plain": [
              "<Figure size 432x288 with 1 Axes>"
            ],
            "image/png": "[encoded data removed]"
          },
          "metadata": {
            "needs_background": "light"
          }
        }
      ],
      "source": [
        "plt.scatter(y_test,Lin_pred)\n",
        "plt.xlabel('Y test')\n",
        "plt.ylabel('Y pred')\n",
        "plt.show()"
      ]
    },
    {
      "cell_type": "code",
      "execution_count": 272,
      "metadata": {
        "id": "TxejJ_Sbwqu9",
        "colab": {
          "base_uri": "https://localhost:8080/",
          "height": 281
        },
        "outputId": "c4840ecd-d559-4bf8-f0b0-af851617763d"
      },
      "outputs": [
        {
          "output_type": "display_data",
          "data": {
            "text/plain": [
              "<Figure size 432x288 with 1 Axes>"
            ],
            "image/png": "[encoded data removed]"
          },
          "metadata": {
            "needs_background": "light"
          }
        }
      ],
      "source": [
        "plt.scatter(y_test,Rand_pred)\n",
        "plt.xlabel('Y test')\n",
        "plt.ylabel('Y pred')\n",
        "plt.show()"
      ]
    },
    {
      "cell_type": "code",
      "execution_count": 273,
      "metadata": {
        "id": "4TDBzgYZxJUK",
        "colab": {
          "base_uri": "https://localhost:8080/",
          "height": 133
        },
        "outputId": "2e5faa64-41d6-4f34-a392-54c9203b266c"
      },
      "outputs": [
        {
          "name": "stdout",
          "output_type": "stream",
          "text": [
            "what is the age of the patient admitted  ?23\n",
            "what is the sex of the patient admitted ?1\n",
            "what is the bmi of the patient admitted ?23.4\n"
          ]
        },
        {
          "output_type": "execute_result",
          "data": {
            "text/plain": [
              "  age sex   bmi\n",
              "0  23   1  23.4"
            ],
            "text/html": [
              "\n",
              "  <div id=\"df-71a3fbe0-2acb-4053-b430-c87d92468a20\">\n",
              "    <div class=\"colab-df-container\">\n",
              "      <div>\n",
              "<style scoped>\n",
              "    .dataframe tbody tr th:only-of-type {\n",
              "        vertical-align: middle;\n",
              "    }\n",
              "\n",
              "    .dataframe tbody tr th {\n",
              "        vertical-align: top;\n",
              "    }\n",
              "\n",
              "    .dataframe thead th {\n",
              "        text-align: right;\n",
              "    }\n",
              "</style>\n",
              "<table border=\"1\" class=\"dataframe\">\n",
              "  <thead>\n",
              "    <tr style=\"text-align: right;\">\n",
              "      <th></th>\n",
              "      <th>age</th>\n",
              "      <th>sex</th>\n",
              "      <th>bmi</th>\n",
              "    </tr>\n",
              "  </thead>\n",
              "  <tbody>\n",
              "    <tr>\n",
              "      <th>0</th>\n",
              "      <td>23</td>\n",
              "      <td>1</td>\n",
              "      <td>23.4</td>\n",
              "    </tr>\n",
              "  </tbody>\n",
              "</table>\n",
              "</div>\n",
              "      <button class=\"colab-df-convert\" onclick=\"convertToInteractive('df-71a3fbe0-2acb-4053-b430-c87d92468a20')\"\n",
              "              title=\"Convert this dataframe to an interactive table.\"\n",
              "              style=\"display:none;\">\n",
              "        \n",
              "  <svg xmlns=\"http://www.w3.org/2000/svg\" height=\"24px\"viewBox=\"0 0 24 24\"\n",
              "       width=\"24px\">\n",
              "    <path d=\"M0 0h24v24H0V0z\" fill=\"none\"/>\n",
              "    <path d=\"M18.56 5.44l.94 2.06.94-2.06 2.06-.94-2.06-.94-.94-2.06-.94 2.06-2.06.94zm-11 1L8.5 8.5l.94-2.06 2.06-.94-2.06-.94L8.5 2.5l-.94 2.06-2.06.94zm10 10l.94 2.06.94-2.06 2.06-.94-2.06-.94-.94-2.06-.94 2.06-2.06.94z\"/><path d=\"M17.41 7.96l-1.37-1.37c-.4-.4-.92-.59-1.43-.59-.52 0-1.04.2-1.43.59L10.3 9.45l-7.72 7.72c-.78.78-.78 2.05 0 2.83L4 21.41c.39.39.9.59 1.41.59.51 0 1.02-.2 1.41-.59l7.78-7.78 2.81-2.81c.8-.78.8-2.07 0-2.86zM5.41 20L4 18.59l7.72-7.72 1.47 1.35L5.41 20z\"/>\n",
              "  </svg>\n",
              "      </button>\n",
              "      \n",
              "  <style>\n",
              "    .colab-df-container {\n",
              "      display:flex;\n",
              "      flex-wrap:wrap;\n",
              "      gap: 12px;\n",
              "    }\n",
              "\n",
              "    .colab-df-convert {\n",
              "      background-color: #E8F0FE;\n",
              "      border: none;\n",
              "      border-radius: 50%;\n",
              "      cursor: pointer;\n",
              "      display: none;\n",
              "      fill: #1967D2;\n",
              "      height: 32px;\n",
              "      padding: 0 0 0 0;\n",
              "      width: 32px;\n",
              "    }\n",
              "\n",
              "    .colab-df-convert:hover {\n",
              "      background-color: #E2EBFA;\n",
              "      box-shadow: 0px 1px 2px rgba(60, 64, 67, 0.3), 0px 1px 3px 1px rgba(60, 64, 67, 0.15);\n",
              "      fill: #174EA6;\n",
              "    }\n",
              "\n",
              "    [theme=dark] .colab-df-convert {\n",
              "      background-color: #3B4455;\n",
              "      fill: #D2E3FC;\n",
              "    }\n",
              "\n",
              "    [theme=dark] .colab-df-convert:hover {\n",
              "      background-color: #434B5C;\n",
              "      box-shadow: 0px 1px 3px 1px rgba(0, 0, 0, 0.15);\n",
              "      filter: drop-shadow(0px 1px 2px rgba(0, 0, 0, 0.3));\n",
              "      fill: #FFFFFF;\n",
              "    }\n",
              "  </style>\n",
              "\n",
              "      <script>\n",
              "        const buttonEl =\n",
              "          document.querySelector('#df-71a3fbe0-2acb-4053-b430-c87d92468a20 button.colab-df-convert');\n",
              "        buttonEl.style.display =\n",
              "          google.colab.kernel.accessAllowed ? 'block' : 'none';\n",
              "\n",
              "        async function convertToInteractive(key) {\n",
              "          const element = document.querySelector('#df-71a3fbe0-2acb-4053-b430-c87d92468a20');\n",
              "          const dataTable =\n",
              "            await google.colab.kernel.invokeFunction('convertToInteractive',\n",
              "                                                     [key], {});\n",
              "          if (!dataTable) return;\n",
              "\n",
              "          const docLinkHtml = 'Like what you see? Visit the ' +\n",
              "            '<a target=\"_blank\" href=https://colab.research.google.com/notebooks/data_table.ipynb>data table notebook</a>'\n",
              "            + ' to learn more about interactive tables.';\n",
              "          element.innerHTML = '';\n",
              "          dataTable['output_type'] = 'display_data';\n",
              "          await google.colab.output.renderOutput(dataTable, element);\n",
              "          const docLink = document.createElement('div');\n",
              "          docLink.innerHTML = docLinkHtml;\n",
              "          element.appendChild(docLink);\n",
              "        }\n",
              "      </script>\n",
              "    </div>\n",
              "  </div>\n",
              "  "
            ]
          },
          "metadata": {},
          "execution_count": 273
        }
      ],
      "source": [
        "a=input(\"what is the age of the patient admitted  ?\")\n",
        "b=input(\"what is the sex of the patient admitted ?\")\n",
        "c=input(\"what is the bmi of the patient admitted ?\")\n",
        "data = {'age':a,'sex':b,'bmi':c}\n",
        "index = [0]\n",
        "cust_df = pd.DataFrame(data, index)\n",
        "cust_df"
      ]
    },
    {
      "cell_type": "code",
      "execution_count": 274,
      "metadata": {
        "id": "5J_GB9lGxKr0",
        "colab": {
          "base_uri": "https://localhost:8080/"
        },
        "outputId": "97fce451-64ac-4191-a573-fd79224ff723"
      },
      "outputs": [
        {
          "output_type": "stream",
          "name": "stdout",
          "text": [
            "The medical insurance cost of the new customer under Linear regression is:  [7984.32946186]\n",
            "The medical insurance cost of the new customer under Random forest regression is:  [5919.3668066]\n"
          ]
        }
      ],
      "source": [
        "costpredLin = Lin_reg.predict(cust_df)\n",
        "costpredRand = Rand_reg.predict(cust_df)\n",
        "\n",
        "print(\"The medical insurance cost of the new customer under Linear regression is: \", costpredLin)\n",
        "print(\"The medical insurance cost of the new customer under Random forest regression is: \", costpredRand)"
      ]
    },
    {
      "cell_type": "markdown",
      "metadata": {
        "id": "1cvafLB1xlzR"
      },
      "source": [
        "#**Prediction of medical insurance using attribute 'SMOKER, REGION, CHILDREN'**"
      ]
    },
    {
      "cell_type": "code",
      "execution_count": 275,
      "metadata": {
        "id": "9dkLKRbWx2jW",
        "colab": {
          "base_uri": "https://localhost:8080/"
        },
        "outputId": "1deb143a-46c8-4a72-a09c-f1a2b6ce2017"
      },
      "outputs": [
        {
          "output_type": "stream",
          "name": "stdout",
          "text": [
            "X_train shape(1070, 3)\n",
            "X_test shape(268, 3)\n",
            "Y_train shape(1070,)\n",
            "Y_test shape(268,)\n"
          ]
        }
      ],
      "source": [
        "X= label_data.drop([\"charges\",\"age\",\"sex\",\"bmi\"],axis =1)\n",
        "y= label_data[\"charges\"]\n",
        "X_train, X_test, y_train, y_test = train_test_split(X, y,test_size=0.20,random_state=42)\n",
        "\n",
        "print(f\"X_train shape{X_train.shape}\")\n",
        "print(f\"X_test shape{X_test.shape}\")\n",
        "print(f\"Y_train shape{y_train.shape}\")\n",
        "print(f\"Y_test shape{y_test.shape}\")"
      ]
    },
    {
      "cell_type": "code",
      "execution_count": 276,
      "metadata": {
        "id": "oiPTZs1yyHjX"
      },
      "outputs": [],
      "source": [
        "Lin_reg = LinearRegression()\n",
        "Lin_reg.fit(X_train,y_train)\n",
        "Lin_pred = Lin_reg.predict(X_test)\n",
        "\n",
        "Rand_reg=RandomForestRegressor()\n",
        "Rand_reg.fit(X_train,y_train)\n",
        "Rand_pred = Rand_reg.predict(X_test)"
      ]
    },
    {
      "cell_type": "code",
      "execution_count": 277,
      "metadata": {
        "id": "AlUzE1zsyJ-E",
        "colab": {
          "base_uri": "https://localhost:8080/"
        },
        "outputId": "6c3cc4c9-0e8e-402e-948a-e1f07b5d6843"
      },
      "outputs": [
        {
          "output_type": "stream",
          "name": "stdout",
          "text": [
            "MSE for linear regression : 52240352.854180194\n",
            "MSE for Random forest regression : 53599888.34792412\n",
            "------------------------------------------------------------------------------------------\n",
            "MAE for linear regression : 5612.526993369098\n",
            "MAE for Random forest regression : 5577.683914248442\n",
            "------------------------------------------------------------------------------------------\n",
            "RMSE for linear regression : 7227.748809565825\n",
            "RMSE for Random forest regression : 7321.19446182958\n"
          ]
        }
      ],
      "source": [
        "from sklearn.metrics import *\n",
        "#Mean squared error\n",
        "print('MSE for linear regression :', mean_squared_error(y_test, Lin_pred))\n",
        "print('MSE for Random forest regression :', mean_squared_error(y_test, Rand_pred))\n",
        "print(\"------------------------------------------------------------------------------------------\")\n",
        "\n",
        "#Mean absolute error\n",
        "print('MAE for linear regression :', mean_absolute_error(y_test, Lin_pred))\n",
        "print('MAE for Random forest regression :', mean_absolute_error(y_test, Rand_pred))\n",
        "print(\"------------------------------------------------------------------------------------------\")\n",
        "\n",
        "#Root mean squared error\n",
        "print('RMSE for linear regression :', np.sqrt(mean_squared_error(y_test, Lin_pred)))\n",
        "print('RMSE for Random forest regression :', np.sqrt(mean_squared_error(y_test, Rand_pred)))\n"
      ]
    },
    {
      "cell_type": "code",
      "execution_count": 278,
      "metadata": {
        "id": "kSnuTYJryMJO",
        "colab": {
          "base_uri": "https://localhost:8080/"
        },
        "outputId": "88a726b3-b620-4e37-a8b8-d14072114060"
      },
      "outputs": [
        {
          "output_type": "stream",
          "name": "stdout",
          "text": [
            "The R2 score for Linear regression is  0.6635054447646268\n",
            "The R2 score for Random forest regression is 0.6547483007887615\n"
          ]
        }
      ],
      "source": [
        "print(f\"The R2 score for Linear regression is  {r2_score(y_test,Lin_pred)}\")\n",
        "print(f\"The R2 score for Random forest regression is {r2_score(y_test,Rand_pred)}\")"
      ]
    },
    {
      "cell_type": "code",
      "execution_count": 279,
      "metadata": {
        "id": "E5GlGxtjyNf9",
        "colab": {
          "base_uri": "https://localhost:8080/",
          "height": 279
        },
        "outputId": "aed8fe70-035b-4db7-9511-b9f6353e9b36"
      },
      "outputs": [
        {
          "output_type": "display_data",
          "data": {
            "text/plain": [
              "<Figure size 432x288 with 1 Axes>"
            ],
            "image/png": "[encoded data removed]"
          },
          "metadata": {
            "needs_background": "light"
          }
        }
      ],
      "source": [
        "plt.scatter(y_test,Lin_pred)\n",
        "plt.xlabel('Y test')\n",
        "plt.ylabel('Y pred')\n",
        "plt.show()"
      ]
    },
    {
      "cell_type": "code",
      "execution_count": 280,
      "metadata": {
        "id": "LeMARzijyO1W",
        "colab": {
          "base_uri": "https://localhost:8080/",
          "height": 279
        },
        "outputId": "b97a4d69-9dd1-4f2e-ef9a-d8288d3d782b"
      },
      "outputs": [
        {
          "output_type": "display_data",
          "data": {
            "text/plain": [
              "<Figure size 432x288 with 1 Axes>"
            ],
            "image/png": "[encoded data removed]"
          },
          "metadata": {
            "needs_background": "light"
          }
        }
      ],
      "source": [
        "plt.scatter(y_test,Rand_pred)\n",
        "plt.xlabel('Y test')\n",
        "plt.ylabel('Y pred')\n",
        "plt.show()"
      ]
    },
    {
      "cell_type": "code",
      "execution_count": 281,
      "metadata": {
        "id": "4Uxx7sCUyQLl",
        "colab": {
          "base_uri": "https://localhost:8080/",
          "height": 133
        },
        "outputId": "813da8c9-d184-402d-90ab-ef41730fa744"
      },
      "outputs": [
        {
          "name": "stdout",
          "output_type": "stream",
          "text": [
            "what is the number of children of the patient admitted  ?3\n",
            "is the patient a smoker  ?1\n",
            "what is the region of the patient admitted ?2\n"
          ]
        },
        {
          "output_type": "execute_result",
          "data": {
            "text/plain": [
              "  children smoker region\n",
              "0        3      1      2"
            ],
            "text/html": [
              "\n",
              "  <div id=\"df-c3964650-97fe-4ac5-9c2f-cd7f1e3bc0af\">\n",
              "    <div class=\"colab-df-container\">\n",
              "      <div>\n",
              "<style scoped>\n",
              "    .dataframe tbody tr th:only-of-type {\n",
              "        vertical-align: middle;\n",
              "    }\n",
              "\n",
              "    .dataframe tbody tr th {\n",
              "        vertical-align: top;\n",
              "    }\n",
              "\n",
              "    .dataframe thead th {\n",
              "        text-align: right;\n",
              "    }\n",
              "</style>\n",
              "<table border=\"1\" class=\"dataframe\">\n",
              "  <thead>\n",
              "    <tr style=\"text-align: right;\">\n",
              "      <th></th>\n",
              "      <th>children</th>\n",
              "      <th>smoker</th>\n",
              "      <th>region</th>\n",
              "    </tr>\n",
              "  </thead>\n",
              "  <tbody>\n",
              "    <tr>\n",
              "      <th>0</th>\n",
              "      <td>3</td>\n",
              "      <td>1</td>\n",
              "      <td>2</td>\n",
              "    </tr>\n",
              "  </tbody>\n",
              "</table>\n",
              "</div>\n",
              "      <button class=\"colab-df-convert\" onclick=\"convertToInteractive('df-c3964650-97fe-4ac5-9c2f-cd7f1e3bc0af')\"\n",
              "              title=\"Convert this dataframe to an interactive table.\"\n",
              "              style=\"display:none;\">\n",
              "        \n",
              "  <svg xmlns=\"http://www.w3.org/2000/svg\" height=\"24px\"viewBox=\"0 0 24 24\"\n",
              "       width=\"24px\">\n",
              "    <path d=\"M0 0h24v24H0V0z\" fill=\"none\"/>\n",
              "    <path d=\"M18.56 5.44l.94 2.06.94-2.06 2.06-.94-2.06-.94-.94-2.06-.94 2.06-2.06.94zm-11 1L8.5 8.5l.94-2.06 2.06-.94-2.06-.94L8.5 2.5l-.94 2.06-2.06.94zm10 10l.94 2.06.94-2.06 2.06-.94-2.06-.94-.94-2.06-.94 2.06-2.06.94z\"/><path d=\"M17.41 7.96l-1.37-1.37c-.4-.4-.92-.59-1.43-.59-.52 0-1.04.2-1.43.59L10.3 9.45l-7.72 7.72c-.78.78-.78 2.05 0 2.83L4 21.41c.39.39.9.59 1.41.59.51 0 1.02-.2 1.41-.59l7.78-7.78 2.81-2.81c.8-.78.8-2.07 0-2.86zM5.41 20L4 18.59l7.72-7.72 1.47 1.35L5.41 20z\"/>\n",
              "  </svg>\n",
              "      </button>\n",
              "      \n",
              "  <style>\n",
              "    .colab-df-container {\n",
              "      display:flex;\n",
              "      flex-wrap:wrap;\n",
              "      gap: 12px;\n",
              "    }\n",
              "\n",
              "    .colab-df-convert {\n",
              "      background-color: #E8F0FE;\n",
              "      border: none;\n",
              "      border-radius: 50%;\n",
              "      cursor: pointer;\n",
              "      display: none;\n",
              "      fill: #1967D2;\n",
              "      height: 32px;\n",
              "      padding: 0 0 0 0;\n",
              "      width: 32px;\n",
              "    }\n",
              "\n",
              "    .colab-df-convert:hover {\n",
              "      background-color: #E2EBFA;\n",
              "      box-shadow: 0px 1px 2px rgba(60, 64, 67, 0.3), 0px 1px 3px 1px rgba(60, 64, 67, 0.15);\n",
              "      fill: #174EA6;\n",
              "    }\n",
              "\n",
              "    [theme=dark] .colab-df-convert {\n",
              "      background-color: #3B4455;\n",
              "      fill: #D2E3FC;\n",
              "    }\n",
              "\n",
              "    [theme=dark] .colab-df-convert:hover {\n",
              "      background-color: #434B5C;\n",
              "      box-shadow: 0px 1px 3px 1px rgba(0, 0, 0, 0.15);\n",
              "      filter: drop-shadow(0px 1px 2px rgba(0, 0, 0, 0.3));\n",
              "      fill: #FFFFFF;\n",
              "    }\n",
              "  </style>\n",
              "\n",
              "      <script>\n",
              "        const buttonEl =\n",
              "          document.querySelector('#df-c3964650-97fe-4ac5-9c2f-cd7f1e3bc0af button.colab-df-convert');\n",
              "        buttonEl.style.display =\n",
              "          google.colab.kernel.accessAllowed ? 'block' : 'none';\n",
              "\n",
              "        async function convertToInteractive(key) {\n",
              "          const element = document.querySelector('#df-c3964650-97fe-4ac5-9c2f-cd7f1e3bc0af');\n",
              "          const dataTable =\n",
              "            await google.colab.kernel.invokeFunction('convertToInteractive',\n",
              "                                                     [key], {});\n",
              "          if (!dataTable) return;\n",
              "\n",
              "          const docLinkHtml = 'Like what you see? Visit the ' +\n",
              "            '<a target=\"_blank\" href=https://colab.research.google.com/notebooks/data_table.ipynb>data table notebook</a>'\n",
              "            + ' to learn more about interactive tables.';\n",
              "          element.innerHTML = '';\n",
              "          dataTable['output_type'] = 'display_data';\n",
              "          await google.colab.output.renderOutput(dataTable, element);\n",
              "          const docLink = document.createElement('div');\n",
              "          docLink.innerHTML = docLinkHtml;\n",
              "          element.appendChild(docLink);\n",
              "        }\n",
              "      </script>\n",
              "    </div>\n",
              "  </div>\n",
              "  "
            ]
          },
          "metadata": {},
          "execution_count": 281
        }
      ],
      "source": [
        "a=input(\"what is the number of children of the patient admitted  ?\")\n",
        "b=input(\"is the patient a smoker  ?\")\n",
        "c=input(\"what is the region of the patient admitted ?\")\n",
        "data = {'children':a,'smoker':b,'region':c}\n",
        "index = [0]\n",
        "cust_df = pd.DataFrame(data, index)\n",
        "cust_df"
      ]
    },
    {
      "cell_type": "code",
      "execution_count": 282,
      "metadata": {
        "id": "SDul4vyTyRae",
        "colab": {
          "base_uri": "https://localhost:8080/"
        },
        "outputId": "1a43b1ec-be60-486a-baee-4bd199aaaa1b"
      },
      "outputs": [
        {
          "output_type": "stream",
          "name": "stdout",
          "text": [
            "The medical insurance cost of the new customer under Linear regression is:  [32935.24395842]\n",
            "The medical insurance cost of the new customer under Random forest regression is:  [30076.36756705]\n"
          ]
        }
      ],
      "source": [
        "costpredLin = Lin_reg.predict(cust_df)\n",
        "costpredRand = Rand_reg.predict(cust_df)\n",
        "\n",
        "print(\"The medical insurance cost of the new customer under Linear regression is: \", costpredLin)\n",
        "print(\"The medical insurance cost of the new customer under Random forest regression is: \", costpredRand)"
      ]
    },
    {
      "cell_type": "markdown",
      "metadata": {
        "id": "MSAlJHmHy3Oh"
      },
      "source": [
        "#**Prediction of medical insurance using attribute 'AGE, SEX, BMI, CHILDREN, SMOKER, REGION'**"
      ]
    },
    {
      "cell_type": "code",
      "execution_count": 283,
      "metadata": {
        "id": "JYPt2sLkzEuw",
        "colab": {
          "base_uri": "https://localhost:8080/"
        },
        "outputId": "71245891-03c8-43ee-c77d-cfb6fc0a6f67"
      },
      "outputs": [
        {
          "output_type": "stream",
          "name": "stdout",
          "text": [
            "X_train shape(1070, 6)\n",
            "X_test shape(268, 6)\n",
            "Y_train shape(1070,)\n",
            "Y_test shape(268,)\n"
          ]
        }
      ],
      "source": [
        "X= label_data.drop([\"charges\"],axis =1)\n",
        "y= label_data[\"charges\"]\n",
        "X_train, X_test, y_train, y_test = train_test_split(X, y,test_size=0.20,random_state=42)\n",
        "\n",
        "print(f\"X_train shape{X_train.shape}\")\n",
        "print(f\"X_test shape{X_test.shape}\")\n",
        "print(f\"Y_train shape{y_train.shape}\")\n",
        "print(f\"Y_test shape{y_test.shape}\")"
      ]
    },
    {
      "cell_type": "code",
      "execution_count": 284,
      "metadata": {
        "id": "bWMCIS0wzrcL"
      },
      "outputs": [],
      "source": [
        "Lin_reg = LinearRegression()\n",
        "Lin_reg.fit(X_train,y_train)\n",
        "Lin_pred = Lin_reg.predict(X_test)\n",
        "\n",
        "Rand_reg=RandomForestRegressor()\n",
        "Rand_reg.fit(X_train,y_train)\n",
        "Rand_pred = Rand_reg.predict(X_test)"
      ]
    },
    {
      "cell_type": "code",
      "execution_count": 285,
      "metadata": {
        "id": "rhvhqKdfztgz",
        "colab": {
          "base_uri": "https://localhost:8080/"
        },
        "outputId": "efed342f-70d1-4013-f733-95f2a51f0e1c"
      },
      "outputs": [
        {
          "output_type": "stream",
          "name": "stdout",
          "text": [
            "MSE for linear regression : 33635210.431178406\n",
            "MSE for Random forest regression : 21217407.543699294\n",
            "------------------------------------------------------------------------------------------\n",
            "MAE for linear regression : 4186.508898366435\n",
            "MAE for Random forest regression : 2485.8412790550824\n",
            "------------------------------------------------------------------------------------------\n",
            "RMSE for linear regression : 5799.587091438356\n",
            "RMSE for Random forest regression : 4606.23572385297\n"
          ]
        }
      ],
      "source": [
        "from sklearn.metrics import *\n",
        "#Mean squared error\n",
        "print('MSE for linear regression :', mean_squared_error(y_test, Lin_pred))\n",
        "print('MSE for Random forest regression :', mean_squared_error(y_test, Rand_pred))\n",
        "print(\"------------------------------------------------------------------------------------------\")\n",
        "\n",
        "#Mean absolute error\n",
        "print('MAE for linear regression :', mean_absolute_error(y_test, Lin_pred))\n",
        "print('MAE for Random forest regression :', mean_absolute_error(y_test, Rand_pred))\n",
        "print(\"------------------------------------------------------------------------------------------\")\n",
        "\n",
        "#Root mean squared error\n",
        "print('RMSE for linear regression :', np.sqrt(mean_squared_error(y_test, Lin_pred)))\n",
        "print('RMSE for Random forest regression :', np.sqrt(mean_squared_error(y_test, Rand_pred)))\n"
      ]
    },
    {
      "cell_type": "code",
      "execution_count": 286,
      "metadata": {
        "id": "-_jWOeMazvGb",
        "colab": {
          "base_uri": "https://localhost:8080/"
        },
        "outputId": "6ec84f6d-6592-4e33-852b-dd682e8e9fa6"
      },
      "outputs": [
        {
          "output_type": "stream",
          "name": "stdout",
          "text": [
            "The R2 score for Linear regression is  0.7833463107364539\n",
            "The R2 score for Random forest regression is 0.863332812192262\n"
          ]
        }
      ],
      "source": [
        "print(f\"The R2 score for Linear regression is  {r2_score(y_test,Lin_pred)}\")\n",
        "print(f\"The R2 score for Random forest regression is {r2_score(y_test,Rand_pred)}\")"
      ]
    },
    {
      "cell_type": "code",
      "execution_count": 287,
      "metadata": {
        "id": "wHffICDBzwik",
        "colab": {
          "base_uri": "https://localhost:8080/",
          "height": 279
        },
        "outputId": "24c1fb5f-41f4-4189-b285-4d6d433f58f2"
      },
      "outputs": [
        {
          "output_type": "display_data",
          "data": {
            "text/plain": [
              "<Figure size 432x288 with 1 Axes>"
            ],
            "image/png": "[encoded data removed]"
          },
          "metadata": {
            "needs_background": "light"
          }
        }
      ],
      "source": [
        "plt.scatter(y_test,Lin_pred)\n",
        "plt.xlabel('Y test')\n",
        "plt.ylabel('Y pred')\n",
        "plt.show()"
      ]
    },
    {
      "cell_type": "code",
      "execution_count": 288,
      "metadata": {
        "id": "Zi77HeMBzx00",
        "colab": {
          "base_uri": "https://localhost:8080/",
          "height": 279
        },
        "outputId": "a3daeede-0710-41a2-f349-0307fa9f2fd3"
      },
      "outputs": [
        {
          "output_type": "display_data",
          "data": {
            "text/plain": [
              "<Figure size 432x288 with 1 Axes>"
            ],
            "image/png": "[encoded data removed]"
          },
          "metadata": {
            "needs_background": "light"
          }
        }
      ],
      "source": [
        "plt.scatter(y_test,Rand_pred)\n",
        "plt.xlabel('Y test')\n",
        "plt.ylabel('Y pred')\n",
        "plt.show()"
      ]
    },
    {
      "cell_type": "code",
      "execution_count": 290,
      "metadata": {
        "id": "f4oQG_6YzzC4",
        "colab": {
          "base_uri": "https://localhost:8080/",
          "height": 185
        },
        "outputId": "c206383e-97e8-4d98-a902-683e8d82cfdc"
      },
      "outputs": [
        {
          "name": "stdout",
          "output_type": "stream",
          "text": [
            "what is the age of the patient admitted  ?23\n",
            "what is the sex of the patient admitted ?1\n",
            "what is the bmi of the patient admitted ?12.3\n",
            "what is the number of children of the patient admitted  ?2\n",
            "is the patient a smoker  ?0\n",
            "what is the region of the patient admitted ?2\n"
          ]
        },
        {
          "output_type": "execute_result",
          "data": {
            "text/plain": [
              "  age sex   bmi children smoker region\n",
              "0  23   1  12.3        2      0      2"
            ],
            "text/html": [
              "\n",
              "  <div id=\"df-27d8cde9-9f83-4908-aa2c-8b2c74db6ade\">\n",
              "    <div class=\"colab-df-container\">\n",
              "      <div>\n",
              "<style scoped>\n",
              "    .dataframe tbody tr th:only-of-type {\n",
              "        vertical-align: middle;\n",
              "    }\n",
              "\n",
              "    .dataframe tbody tr th {\n",
              "        vertical-align: top;\n",
              "    }\n",
              "\n",
              "    .dataframe thead th {\n",
              "        text-align: right;\n",
              "    }\n",
              "</style>\n",
              "<table border=\"1\" class=\"dataframe\">\n",
              "  <thead>\n",
              "    <tr style=\"text-align: right;\">\n",
              "      <th></th>\n",
              "      <th>age</th>\n",
              "      <th>sex</th>\n",
              "      <th>bmi</th>\n",
              "      <th>children</th>\n",
              "      <th>smoker</th>\n",
              "      <th>region</th>\n",
              "    </tr>\n",
              "  </thead>\n",
              "  <tbody>\n",
              "    <tr>\n",
              "      <th>0</th>\n",
              "      <td>23</td>\n",
              "      <td>1</td>\n",
              "      <td>12.3</td>\n",
              "      <td>2</td>\n",
              "      <td>0</td>\n",
              "      <td>2</td>\n",
              "    </tr>\n",
              "  </tbody>\n",
              "</table>\n",
              "</div>\n",
              "      <button class=\"colab-df-convert\" onclick=\"convertToInteractive('df-27d8cde9-9f83-4908-aa2c-8b2c74db6ade')\"\n",
              "              title=\"Convert this dataframe to an interactive table.\"\n",
              "              style=\"display:none;\">\n",
              "        \n",
              "  <svg xmlns=\"http://www.w3.org/2000/svg\" height=\"24px\"viewBox=\"0 0 24 24\"\n",
              "       width=\"24px\">\n",
              "    <path d=\"M0 0h24v24H0V0z\" fill=\"none\"/>\n",
              "    <path d=\"M18.56 5.44l.94 2.06.94-2.06 2.06-.94-2.06-.94-.94-2.06-.94 2.06-2.06.94zm-11 1L8.5 8.5l.94-2.06 2.06-.94-2.06-.94L8.5 2.5l-.94 2.06-2.06.94zm10 10l.94 2.06.94-2.06 2.06-.94-2.06-.94-.94-2.06-.94 2.06-2.06.94z\"/><path d=\"M17.41 7.96l-1.37-1.37c-.4-.4-.92-.59-1.43-.59-.52 0-1.04.2-1.43.59L10.3 9.45l-7.72 7.72c-.78.78-.78 2.05 0 2.83L4 21.41c.39.39.9.59 1.41.59.51 0 1.02-.2 1.41-.59l7.78-7.78 2.81-2.81c.8-.78.8-2.07 0-2.86zM5.41 20L4 18.59l7.72-7.72 1.47 1.35L5.41 20z\"/>\n",
              "  </svg>\n",
              "      </button>\n",
              "      \n",
              "  <style>\n",
              "    .colab-df-container {\n",
              "      display:flex;\n",
              "      flex-wrap:wrap;\n",
              "      gap: 12px;\n",
              "    }\n",
              "\n",
              "    .colab-df-convert {\n",
              "      background-color: #E8F0FE;\n",
              "      border: none;\n",
              "      border-radius: 50%;\n",
              "      cursor: pointer;\n",
              "      display: none;\n",
              "      fill: #1967D2;\n",
              "      height: 32px;\n",
              "      padding: 0 0 0 0;\n",
              "      width: 32px;\n",
              "    }\n",
              "\n",
              "    .colab-df-convert:hover {\n",
              "      background-color: #E2EBFA;\n",
              "      box-shadow: 0px 1px 2px rgba(60, 64, 67, 0.3), 0px 1px 3px 1px rgba(60, 64, 67, 0.15);\n",
              "      fill: #174EA6;\n",
              "    }\n",
              "\n",
              "    [theme=dark] .colab-df-convert {\n",
              "      background-color: #3B4455;\n",
              "      fill: #D2E3FC;\n",
              "    }\n",
              "\n",
              "    [theme=dark] .colab-df-convert:hover {\n",
              "      background-color: #434B5C;\n",
              "      box-shadow: 0px 1px 3px 1px rgba(0, 0, 0, 0.15);\n",
              "      filter: drop-shadow(0px 1px 2px rgba(0, 0, 0, 0.3));\n",
              "      fill: #FFFFFF;\n",
              "    }\n",
              "  </style>\n",
              "\n",
              "      <script>\n",
              "        const buttonEl =\n",
              "          document.querySelector('#df-27d8cde9-9f83-4908-aa2c-8b2c74db6ade button.colab-df-convert');\n",
              "        buttonEl.style.display =\n",
              "          google.colab.kernel.accessAllowed ? 'block' : 'none';\n",
              "\n",
              "        async function convertToInteractive(key) {\n",
              "          const element = document.querySelector('#df-27d8cde9-9f83-4908-aa2c-8b2c74db6ade');\n",
              "          const dataTable =\n",
              "            await google.colab.kernel.invokeFunction('convertToInteractive',\n",
              "                                                     [key], {});\n",
              "          if (!dataTable) return;\n",
              "\n",
              "          const docLinkHtml = 'Like what you see? Visit the ' +\n",
              "            '<a target=\"_blank\" href=https://colab.research.google.com/notebooks/data_table.ipynb>data table notebook</a>'\n",
              "            + ' to learn more about interactive tables.';\n",
              "          element.innerHTML = '';\n",
              "          dataTable['output_type'] = 'display_data';\n",
              "          await google.colab.output.renderOutput(dataTable, element);\n",
              "          const docLink = document.createElement('div');\n",
              "          docLink.innerHTML = docLinkHtml;\n",
              "          element.appendChild(docLink);\n",
              "        }\n",
              "      </script>\n",
              "    </div>\n",
              "  </div>\n",
              "  "
            ]
          },
          "metadata": {},
          "execution_count": 290
        }
      ],
      "source": [
        "a=input(\"what is the age of the patient admitted  ?\")\n",
        "b=input(\"what is the sex of the patient admitted ?\")\n",
        "c=input(\"what is the bmi of the patient admitted ?\")\n",
        "d=input(\"what is the number of children of the patient admitted  ?\")\n",
        "e=input(\"is the patient a smoker  ?\")\n",
        "f=input(\"what is the region of the patient admitted ?\")\n",
        "data = {'age':a,'sex':b,'bmi':c,'children':d,'smoker':e,'region':f}\n",
        "index = [0]\n",
        "cust_df = pd.DataFrame(data, index)\n",
        "cust_df"
      ]
    },
    {
      "cell_type": "code",
      "execution_count": 291,
      "metadata": {
        "id": "uL8mKduxz1Pw",
        "colab": {
          "base_uri": "https://localhost:8080/"
        },
        "outputId": "40d0092e-86cb-46d1-c712-7f94d9396b3d"
      },
      "outputs": [
        {
          "output_type": "stream",
          "name": "stdout",
          "text": [
            "The medical insurance cost of the new customer under Linear regression is:  [-1615.37724102]\n",
            "The medical insurance cost of the new customer under Random forest regression is:  [7291.6349966]\n"
          ]
        }
      ],
      "source": [
        "costpredLin = Lin_reg.predict(cust_df)\n",
        "costpredRand = Rand_reg.predict(cust_df)\n",
        "\n",
        "print(\"The medical insurance cost of the new customer under Linear regression is: \", costpredLin)\n",
        "print(\"The medical insurance cost of the new customer under Random forest regression is: \", costpredRand)"
      ]
    }
  ],
  "metadata": {
    "colab": {
      "collapsed_sections": [
        "kfqRrwup0WJ7",
        "i8luAX6R0ezr",
        "_-2ltxJi0lS1",
        "p96IfiUF7K0h",
        "G-9pv-93h-In",
        "eVhnp7iEphJU",
        "Lz6EDK5Cqevv",
        "T-eVRqvYrOVc",
        "qfXNBNhDrUnA",
        "KZ9Wv3BzrX7J",
        "q4rnEiWXuBRC",
        "4ph_YfkhwUKZ",
        "1cvafLB1xlzR",
        "MSAlJHmHy3Oh"
      ],
      "name": "Maths project sem 2 ",
      "toc_visible": true,
      "provenance": []
    },
    "gpuClass": "standard",
    "kernelspec": {
      "display_name": "Python 3",
      "name": "python3"
    },
    "language_info": {
      "name": "python"
    }
  },
  "nbformat": 4,
  "nbformat_minor": 0
}